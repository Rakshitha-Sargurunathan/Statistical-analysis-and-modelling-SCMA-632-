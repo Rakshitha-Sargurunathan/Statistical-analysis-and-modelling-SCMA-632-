{
  "nbformat": 4,
  "nbformat_minor": 0,
  "metadata": {
    "colab": {
      "provenance": []
    },
    "kernelspec": {
      "name": "python3",
      "display_name": "Python 3"
    },
    "language_info": {
      "name": "python"
    }
  },
  "cells": [
    {
      "cell_type": "markdown",
      "source": [
        "#ASSIGNMENT - A6b\n",
        "# **PART B - VAR, VECM model**\n",
        "\n",
        "* **AUTHOR**     : Rakshitha Vignesh Sargurunathan               \n",
        "\n",
        "* **VID**        : V01109007\n",
        "\n",
        "* **CREATED ON** : 07/24/2024"
      ],
      "metadata": {
        "id": "0tRLHaGoMzPc"
      }
    },
    {
      "cell_type": "code",
      "source": [
        "import pandas as pd\n",
        "from statsmodels.tsa.stattools import adfuller\n",
        "from statsmodels.tsa.api import VAR\n",
        "from statsmodels.tsa.vector_ar.vecm import coint_johansen\n",
        "import matplotlib.pyplot as plt"
      ],
      "metadata": {
        "id": "BXHdVrGQ8F3f"
      },
      "execution_count": 4,
      "outputs": []
    },
    {
      "cell_type": "code",
      "source": [
        "# Load the data\n",
        "df = pd.read_excel('/content/drive/MyDrive/SCMA/A6b/pinksheet.xlsx', sheet_name=\"Monthly Prices\", skiprows=6)"
      ],
      "metadata": {
        "id": "BHDdif_C8F16"
      },
      "execution_count": 5,
      "outputs": []
    },
    {
      "cell_type": "code",
      "source": [
        "# Rename the first column to \"Date\"\n",
        "df.rename(columns={df.columns[0]: 'Date'}, inplace=True)"
      ],
      "metadata": {
        "id": "TgbPoBKO8Fyo"
      },
      "execution_count": 6,
      "outputs": []
    },
    {
      "cell_type": "code",
      "source": [
        "# Convert the Date column to Date format\n",
        "df['Date'] = pd.to_datetime(df['Date'].astype(str) + '01', format='%YM%m%d')\n",
        "df.set_index('Date', inplace=True)\n"
      ],
      "metadata": {
        "id": "RcTsz01a8FxH"
      },
      "execution_count": 7,
      "outputs": []
    },
    {
      "cell_type": "code",
      "source": [
        "print(df.columns)\n"
      ],
      "metadata": {
        "colab": {
          "base_uri": "https://localhost:8080/"
        },
        "id": "RSuf5YaU-DHv",
        "outputId": "8419df00-2409-434b-f28c-b9adc8228031"
      },
      "execution_count": 13,
      "outputs": [
        {
          "output_type": "stream",
          "name": "stdout",
          "text": [
            "Index(['CRUDE_PETRO', 'CRUDE_BRENT', 'CRUDE_DUBAI', 'CRUDE_WTI', 'COAL_AUS',\n",
            "       'COAL_SAFRICA', 'NGAS_US', 'NGAS_EUR', 'NGAS_JP', 'iNATGAS', 'COCOA',\n",
            "       'COFFEE_ARABIC', 'COFFEE_ROBUS', 'TEA_AVG', 'TEA_COLOMBO',\n",
            "       'TEA_KOLKATA', 'TEA_MOMBASA', 'COCONUT_OIL', 'GRNUT', 'FISH_MEAL',\n",
            "       'GRNUT_OIL', 'PALM_OIL', 'PLMKRNL_OIL', 'SOYBEANS', 'SOYBEAN_OIL',\n",
            "       'SOYBEAN_MEAL', 'RAPESEED_OIL', 'SUNFLOWER_OIL', 'BARLEY', 'MAIZE',\n",
            "       'SORGHUM', 'RICE_05', 'RICE_25', 'RICE_A1', 'RICE_05_VNM',\n",
            "       'WHEAT_US_SRW', 'WHEAT_US_HRW', 'BANANA_EU', 'BANANA_US', 'ORANGE',\n",
            "       'BEEF', 'CHICKEN', 'LAMB', 'SHRIMP_MEX', 'SUGAR_EU', 'SUGAR_US',\n",
            "       'SUGAR_WLD', 'TOBAC_US', 'LOGS_CMR', 'LOGS_MYS', 'SAWNWD_CMR',\n",
            "       'SAWNWD_MYS', 'PLYWOOD', 'COTTON_A_INDX', 'RUBBER_TSR20',\n",
            "       'RUBBER1_MYSG', 'PHOSROCK', 'DAP', 'TSP', 'UREA_EE_BULK', 'POTASH',\n",
            "       'ALUMINUM', 'IRON_ORE', 'COPPER', 'LEAD', 'Tin', 'NICKEL', 'Zinc',\n",
            "       'GOLD', 'PLATINUM', 'SILVER'],\n",
            "      dtype='object')\n"
          ]
        }
      ]
    },
    {
      "cell_type": "code",
      "source": [
        "# Select specific columns (Date and selected commodities)\n",
        "columns_to_select = ['COCONUT_OIL', 'SUGAR_WLD', 'GOLD', 'SILVER', 'WHEAT_US_SRW', 'SOYBEANS']\n",
        "commodity = df[columns_to_select].copy()\n"
      ],
      "metadata": {
        "id": "Iyi3yC9J8Ft-"
      },
      "execution_count": 18,
      "outputs": []
    },
    {
      "cell_type": "code",
      "source": [
        "\n",
        "# Initialize counters and lists for stationary and non-stationary columns\n",
        "non_stationary_count = 0\n",
        "stationary_columns = []\n",
        "non_stationary_columns = []"
      ],
      "metadata": {
        "id": "3K_drc0U--ta"
      },
      "execution_count": 20,
      "outputs": []
    },
    {
      "cell_type": "code",
      "source": [
        "# Perform the ADF test\n",
        "for col in commodity.columns:\n",
        "    adfresult = adfuller(commodity[col].dropna())\n",
        "    p_value = adfresult[1]\n",
        "    print(f'\\nADF test result for column: {col}')\n",
        "    print(f'ADF Statistic: {adf_result[0]}')\n",
        "    print(f'p-value: {p_value}')\n",
        "\n",
        "    # Check if the p-value is greater than 0.05 (commonly used threshold)\n",
        "    if p_value > 0.05:\n",
        "        non_stationary_count += 1\n",
        "        non_stationary_columns.append(col)\n",
        "    else:\n",
        "        stationary_columns.append(col)\n"
      ],
      "metadata": {
        "colab": {
          "base_uri": "https://localhost:8080/"
        },
        "id": "0ymjT6yG--rr",
        "outputId": "a043f8e1-cd21-4338-dad5-1b0f68729c6c"
      },
      "execution_count": 50,
      "outputs": [
        {
          "output_type": "stream",
          "name": "stdout",
          "text": [
            "\n",
            "ADF test result for column: COCONUT_OIL\n",
            "ADF Statistic: -1.3972947107462217\n",
            "p-value: 0.006206255349417254\n",
            "\n",
            "ADF test result for column: SUGAR_WLD\n",
            "ADF Statistic: -1.3972947107462217\n",
            "p-value: 0.05548801023337049\n",
            "\n",
            "ADF test result for column: GOLD\n",
            "ADF Statistic: -1.3972947107462217\n",
            "p-value: 0.996992175315953\n",
            "\n",
            "ADF test result for column: SILVER\n",
            "ADF Statistic: -1.3972947107462217\n",
            "p-value: 0.5462714313868235\n",
            "\n",
            "ADF test result for column: WHEAT_US_SRW\n",
            "ADF Statistic: -1.3972947107462217\n",
            "p-value: 0.15587877881031076\n",
            "\n",
            "ADF test result for column: SOYBEANS\n",
            "ADF Statistic: -1.3972947107462217\n",
            "p-value: 0.4076777788665157\n"
          ]
        }
      ]
    },
    {
      "cell_type": "code",
      "source": [
        "# Print results\n",
        "print(f'\\nNumber of non-stationary columns: {non_stationary_count}')\n",
        "print(f'Non-stationary columns: {non_stationary_columns}')\n",
        "print(f'Stationary columns: {stationary_columns}')"
      ],
      "metadata": {
        "colab": {
          "base_uri": "https://localhost:8080/"
        },
        "id": "VX-uYRiO--oL",
        "outputId": "01299ca7-33c2-4538-a2ea-8857957c29a1"
      },
      "execution_count": 25,
      "outputs": [
        {
          "output_type": "stream",
          "name": "stdout",
          "text": [
            "\n",
            "Number of non-stationary columns: 9\n",
            "Non-stationary columns: ['COCONUT_OIL', 'GOLD', 'SILVER', 'COCONUT_OIL', 'GOLD', 'SILVER', 'COCONUT_OIL', 'GOLD', 'SILVER']\n",
            "Stationary columns: ['SUGAR_WLD', 'SUGAR_WLD', 'SUGAR_WLD']\n"
          ]
        }
      ]
    },
    {
      "cell_type": "code",
      "source": [
        "print(commodity.dtypes)\n"
      ],
      "metadata": {
        "colab": {
          "base_uri": "https://localhost:8080/"
        },
        "id": "IkFI_z78BHsv",
        "outputId": "ebdb1664-d962-4ee9-b998-6e9d1ba403dc"
      },
      "execution_count": 31,
      "outputs": [
        {
          "output_type": "stream",
          "name": "stdout",
          "text": [
            "COCONUT_OIL     float64\n",
            "SUGAR_WLD       float64\n",
            "GOLD            float64\n",
            "SILVER          float64\n",
            "WHEAT_US_SRW     object\n",
            "SOYBEANS        float64\n",
            "dtype: object\n"
          ]
        }
      ]
    },
    {
      "cell_type": "code",
      "source": [
        "commodity = commodity.apply(pd.to_numeric, errors='coerce')"
      ],
      "metadata": {
        "id": "F3AODylzBHo8"
      },
      "execution_count": 32,
      "outputs": []
    },
    {
      "cell_type": "code",
      "source": [
        "print(commodity.dtypes)\n"
      ],
      "metadata": {
        "colab": {
          "base_uri": "https://localhost:8080/"
        },
        "id": "zDAm_eflBHnU",
        "outputId": "2e0e8f38-0e8e-48d5-9e8b-2387facc170d"
      },
      "execution_count": 33,
      "outputs": [
        {
          "output_type": "stream",
          "name": "stdout",
          "text": [
            "COCONUT_OIL     float64\n",
            "SUGAR_WLD       float64\n",
            "GOLD            float64\n",
            "SILVER          float64\n",
            "WHEAT_US_SRW    float64\n",
            "SOYBEANS        float64\n",
            "dtype: object\n"
          ]
        }
      ]
    },
    {
      "cell_type": "code",
      "source": [
        "print(commodity.isna().sum())  # Check for missing values\n",
        "\n",
        "#Fill missing values (e.g., with forward fill)\n",
        "commodity = commodity.fillna(method='ffill')\n",
        "\n"
      ],
      "metadata": {
        "colab": {
          "base_uri": "https://localhost:8080/"
        },
        "id": "AgWYUr5KBSKX",
        "outputId": "337b344e-d569-4048-e130-f4f22d86173e"
      },
      "execution_count": 38,
      "outputs": [
        {
          "output_type": "stream",
          "name": "stdout",
          "text": [
            "COCONUT_OIL     0\n",
            "SUGAR_WLD       0\n",
            "GOLD            0\n",
            "SILVER          0\n",
            "WHEAT_US_SRW    0\n",
            "SOYBEANS        0\n",
            "dtype: int64\n"
          ]
        }
      ]
    },
    {
      "cell_type": "code",
      "source": [
        "# Co-Integration Test (Johansen's Test)\n",
        "model = VAR(commodity)\n",
        "lags = model.select_order(maxlags=10)\n",
        "lag_length = lags.aic"
      ],
      "metadata": {
        "colab": {
          "base_uri": "https://localhost:8080/"
        },
        "id": "iaN-OG3BBViX",
        "outputId": "de5da42c-418f-4d11-c667-4de02a8b7d89"
      },
      "execution_count": 36,
      "outputs": [
        {
          "output_type": "stream",
          "name": "stderr",
          "text": [
            "/usr/local/lib/python3.10/dist-packages/statsmodels/tsa/base/tsa_model.py:473: ValueWarning: A date index has been provided, but it has no associated frequency information and so will be ignored when e.g. forecasting.\n",
            "  self._init_dates(dates, freq)\n"
          ]
        }
      ]
    },
    {
      "cell_type": "code",
      "source": [
        "vecm_model = model.fit(lag_length)\n",
        "coint_test = coint_johansen(commodity, det_order=0, k_ar_diff=lag_length)\n",
        "print(coint_test.lr1)  # Eigenvalues from Johansen's test\n",
        "print(coint_test.cvt)  # Critical values"
      ],
      "metadata": {
        "colab": {
          "base_uri": "https://localhost:8080/"
        },
        "id": "HV9Q-01QBit-",
        "outputId": "57380aa3-7b4d-4007-c306-0c1a72ddfe91"
      },
      "execution_count": 39,
      "outputs": [
        {
          "output_type": "stream",
          "name": "stdout",
          "text": [
            "[152.24898612  96.01941129  60.74387604  32.0307281   14.55686704\n",
            "   4.88633099]\n",
            "[[ 91.109   95.7542 104.9637]\n",
            " [ 65.8202  69.8189  77.8202]\n",
            " [ 44.4929  47.8545  54.6815]\n",
            " [ 27.0669  29.7961  35.4628]\n",
            " [ 13.4294  15.4943  19.9349]\n",
            " [  2.7055   3.8415   6.6349]]\n"
          ]
        }
      ]
    },
    {
      "cell_type": "code",
      "source": [
        "# Determine the number of co-integrating relationships (r)\n",
        "r = 3\n",
        "\n",
        "if r > 0:\n",
        "    # If co-integration exists, estimate the VECM model\n",
        "    vecm_pred = vecm_model.forecast(commodity.values, steps=24)\n",
        "\n",
        "    # Plotting the forecast\n",
        "    plt.figure(figsize=(10, 6))\n",
        "    plt.plot(vecm_pred)\n",
        "    plt.title('Forecast using VECM Model')\n",
        "    plt.xlabel('Time')\n",
        "    plt.ylabel('Values')\n",
        "    plt.legend(commodity.columns)\n",
        "    plt.show()\n",
        "\n",
        "    # If no co-integration exists, proceed with Unrestricted VAR Analysis\n",
        "var_model = VAR(commodity)\n",
        "var_results = var_model.fit(lag_length)"
      ],
      "metadata": {
        "colab": {
          "base_uri": "https://localhost:8080/",
          "height": 599
        },
        "id": "jwYSR4uUBisZ",
        "outputId": "cbc00c89-f62b-40f9-e0e6-158d436d53d5"
      },
      "execution_count": 53,
      "outputs": [
        {
          "output_type": "display_data",
          "data": {
            "text/plain": [
              "<Figure size 1000x600 with 1 Axes>"
            ],
            "image/png": "[encoded data removed]"
          },
          "metadata": {}
        },
        {
          "output_type": "stream",
          "name": "stderr",
          "text": [
            "/usr/local/lib/python3.10/dist-packages/statsmodels/tsa/base/tsa_model.py:473: ValueWarning: A date index has been provided, but it has no associated frequency information and so will be ignored when e.g. forecasting.\n",
            "  self._init_dates(dates, freq)\n"
          ]
        }
      ]
    },
    {
      "cell_type": "code",
      "source": [
        "print(var_results)"
      ],
      "metadata": {
        "colab": {
          "base_uri": "https://localhost:8080/"
        },
        "id": "adZSxOdLCUAd",
        "outputId": "06acd4fa-bdd8-449a-b684-c9417aa681f2"
      },
      "execution_count": 54,
      "outputs": [
        {
          "output_type": "stream",
          "name": "stdout",
          "text": [
            "<statsmodels.tsa.vector_ar.var_model.VARResultsWrapper object at 0x7b1b110e3400>\n"
          ]
        }
      ]
    },
    {
      "cell_type": "code",
      "source": [
        "# Granger causality test\n",
        "causality_results = var_results.test_causality('COCONUT_OIL', ['SUGAR_WLD', 'GOLD'], kind='f')\n",
        "print(causality_results.summary())"
      ],
      "metadata": {
        "colab": {
          "base_uri": "https://localhost:8080/"
        },
        "id": "BNn5W2yBBipY",
        "outputId": "cb377439-fc6f-4a91-91df-2d6de5fa24bd"
      },
      "execution_count": 64,
      "outputs": [
        {
          "output_type": "stream",
          "name": "stdout",
          "text": [
            "Granger causality F-test. H_0: ['SUGAR_WLD', 'GOLD'] do not Granger-cause COCONUT_OIL. Conclusion: reject H_0 at 5% significance level.\n",
            "================================================\n",
            "Test statistic Critical value p-value     df    \n",
            "------------------------------------------------\n",
            "         1.938          1.574   0.007 (20, 2808)\n",
            "------------------------------------------------\n"
          ]
        }
      ]
    },
    {
      "cell_type": "code",
      "source": [
        "# Forecasting using the VAR model\n",
        "forecast = var_results.forecast(commodity.values[-lag_length:], steps=24)"
      ],
      "metadata": {
        "id": "CMTs99gYBin2"
      },
      "execution_count": 65,
      "outputs": []
    },
    {
      "cell_type": "code",
      "source": [
        "    # Plotting the forecast\n",
        "    plt.figure(figsize=(10, 6))\n",
        "    plt.plot(forecast)\n",
        "    plt.title('Forecast using VAR Model')\n",
        "    plt.xlabel('Time')\n",
        "    plt.ylabel('Values')\n",
        "    plt.legend(commodity.columns)\n",
        "    plt.show()"
      ],
      "metadata": {
        "colab": {
          "base_uri": "https://localhost:8080/",
          "height": 564
        },
        "id": "6LWJPjZJ8Fo1",
        "outputId": "a43125f8-f9d7-460d-c3ea-2c6b6a38ef8a"
      },
      "execution_count": 61,
      "outputs": [
        {
          "output_type": "display_data",
          "data": {
            "text/plain": [
              "<Figure size 1000x600 with 1 Axes>"
            ],
            "image/png": "[encoded data removed]"
          },
          "metadata": {}
        }
      ]
    },
    {
      "cell_type": "code",
      "source": [
        "forecast"
      ],
      "metadata": {
        "colab": {
          "base_uri": "https://localhost:8080/"
        },
        "id": "tz7x-dPGLkNw",
        "outputId": "cd3ce5f3-f132-4ee6-a717-6730945af0e1"
      },
      "execution_count": 63,
      "outputs": [
        {
          "output_type": "execute_result",
          "data": {
            "text/plain": [
              "array([[1.53836594e+03, 4.58876056e-01, 2.32611630e+03, 2.96191317e+01,\n",
              "        2.30267347e+02, 4.97452126e+02],\n",
              "       [1.62190491e+03, 4.35225467e-01, 2.34380664e+03, 3.00490151e+01,\n",
              "        2.34419805e+02, 5.01340655e+02],\n",
              "       [1.66878061e+03, 4.37024185e-01, 2.40140064e+03, 3.16638140e+01,\n",
              "        2.51935466e+02, 5.04189207e+02],\n",
              "       [1.65012448e+03, 4.52162049e-01, 2.42120022e+03, 3.23963632e+01,\n",
              "        2.60714733e+02, 5.16652413e+02],\n",
              "       [1.69889345e+03, 4.48774777e-01, 2.43927880e+03, 3.23581848e+01,\n",
              "        2.61457420e+02, 5.33933960e+02],\n",
              "       [1.74255994e+03, 4.57644471e-01, 2.46121142e+03, 3.22870146e+01,\n",
              "        2.73928497e+02, 5.63760804e+02],\n",
              "       [1.76107072e+03, 4.65861002e-01, 2.48141358e+03, 3.25002380e+01,\n",
              "        2.93092658e+02, 5.73987732e+02],\n",
              "       [1.81556605e+03, 4.72987394e-01, 2.53333995e+03, 3.36334183e+01,\n",
              "        3.04168653e+02, 5.87392565e+02],\n",
              "       [1.84650204e+03, 4.82172151e-01, 2.56513651e+03, 3.41844715e+01,\n",
              "        3.11471312e+02, 6.02493928e+02],\n",
              "       [1.87951878e+03, 4.77357131e-01, 2.59311097e+03, 3.51183795e+01,\n",
              "        3.14772074e+02, 6.17504371e+02],\n",
              "       [1.91104940e+03, 4.79127197e-01, 2.61281399e+03, 3.58377141e+01,\n",
              "        3.19485400e+02, 6.31336513e+02],\n",
              "       [1.93585522e+03, 4.90093355e-01, 2.63595291e+03, 3.62932656e+01,\n",
              "        3.29627071e+02, 6.48122056e+02],\n",
              "       [1.97609931e+03, 4.91349694e-01, 2.66091749e+03, 3.67256824e+01,\n",
              "        3.33461773e+02, 6.63527877e+02],\n",
              "       [1.99159112e+03, 4.91598305e-01, 2.68017741e+03, 3.71339302e+01,\n",
              "        3.37194887e+02, 6.72847938e+02],\n",
              "       [1.99445466e+03, 4.86794487e-01, 2.69433217e+03, 3.73696359e+01,\n",
              "        3.39085561e+02, 6.81065243e+02],\n",
              "       [2.00091868e+03, 4.83632557e-01, 2.70421191e+03, 3.73200157e+01,\n",
              "        3.40349233e+02, 6.89132131e+02],\n",
              "       [2.00609859e+03, 4.86297836e-01, 2.72051713e+03, 3.72729781e+01,\n",
              "        3.45654790e+02, 6.99148213e+02],\n",
              "       [2.01646694e+03, 4.89398284e-01, 2.74064383e+03, 3.74819199e+01,\n",
              "        3.49720083e+02, 7.06804539e+02],\n",
              "       [2.01932025e+03, 4.95492467e-01, 2.76187192e+03, 3.78845257e+01,\n",
              "        3.52502023e+02, 7.14129277e+02],\n",
              "       [2.01710627e+03, 4.98616798e-01, 2.77921408e+03, 3.81089483e+01,\n",
              "        3.54314226e+02, 7.20053854e+02],\n",
              "       [2.02314331e+03, 4.99588104e-01, 2.79336208e+03, 3.82166083e+01,\n",
              "        3.55822219e+02, 7.26754813e+02],\n",
              "       [2.02817437e+03, 5.03184093e-01, 2.80775557e+03, 3.83362532e+01,\n",
              "        3.59306043e+02, 7.33314222e+02],\n",
              "       [2.03675958e+03, 5.09799787e-01, 2.82356006e+03, 3.85274028e+01,\n",
              "        3.62093222e+02, 7.39266128e+02],\n",
              "       [2.04499506e+03, 5.14311734e-01, 2.83899910e+03, 3.87553989e+01,\n",
              "        3.63718307e+02, 7.45045719e+02]])"
            ]
          },
          "metadata": {},
          "execution_count": 63
        }
      ]
    }
  ]
}
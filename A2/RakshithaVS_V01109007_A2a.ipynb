{
  "nbformat": 4,
  "nbformat_minor": 0,
  "metadata": {
    "colab": {
      "provenance": []
    },
    "kernelspec": {
      "name": "python3",
      "display_name": "Python 3"
    },
    "language_info": {
      "name": "python"
    }
  },
  "cells": [
    {
      "cell_type": "markdown",
      "source": [
        "#ASSIGNMENT - A2a\n",
        "# **Performing Multiple regression analysis on NSSO68 data**\n",
        "\n",
        "* **AUTHOR**     : Rakshitha Vignesh Sargurunathan               \n",
        "\n",
        "* **VID**        : V01109007\n",
        "\n",
        "* **CREATED ON** : 06/22/2024"
      ],
      "metadata": {
        "id": "taUYd3bJJwGr"
      }
    },
    {
      "cell_type": "code",
      "execution_count": 1,
      "metadata": {
        "id": "rpuVa5df09aK"
      },
      "outputs": [],
      "source": [
        "import pandas as pd\n",
        "import seaborn as sns\n",
        "import matplotlib.pyplot as plt\n",
        "import numpy as np\n",
        "import warnings\n",
        "warnings.filterwarnings('ignore')"
      ]
    },
    {
      "cell_type": "code",
      "source": [
        "nss=pd.read_csv('/content/drive/MyDrive/SCMA/A1a/NSSO68.csv')"
      ],
      "metadata": {
        "id": "FBXOoJVK1HMP"
      },
      "execution_count": 2,
      "outputs": []
    },
    {
      "cell_type": "code",
      "source": [
        "nss.shape"
      ],
      "metadata": {
        "colab": {
          "base_uri": "https://localhost:8080/"
        },
        "id": "a9byozJvOXv-",
        "outputId": "6a498d0c-0b65-4ccf-fdfc-1df8ebc20148"
      },
      "execution_count": 3,
      "outputs": [
        {
          "output_type": "execute_result",
          "data": {
            "text/plain": [
              "(101662, 384)"
            ]
          },
          "metadata": {},
          "execution_count": 3
        }
      ]
    },
    {
      "cell_type": "code",
      "source": [
        "nss.columns"
      ],
      "metadata": {
        "colab": {
          "base_uri": "https://localhost:8080/"
        },
        "id": "gG_XKUbh1HNs",
        "outputId": "5662f094-8782-4fd0-99da-49442738e722"
      },
      "execution_count": 4,
      "outputs": [
        {
          "output_type": "execute_result",
          "data": {
            "text/plain": [
              "Index(['slno', 'grp', 'Round_Centre', 'FSU_number', 'Round', 'Schedule_Number',\n",
              "       'Sample', 'Sector', 'state', 'State_Region',\n",
              "       ...\n",
              "       'pickle_v', 'sauce_jam_v', 'Othrprocessed_v', 'Beveragestotal_v',\n",
              "       'foodtotal_v', 'foodtotal_q', 'state_1', 'Region', 'fruits_df_tt_v',\n",
              "       'fv_tot'],\n",
              "      dtype='object', length=384)"
            ]
          },
          "metadata": {},
          "execution_count": 4
        }
      ]
    },
    {
      "cell_type": "code",
      "source": [
        "nss['MPCE_URP'].nunique()"
      ],
      "metadata": {
        "colab": {
          "base_uri": "https://localhost:8080/"
        },
        "id": "2UoQUZ4v1HQr",
        "outputId": "99437051-d326-4283-aa3a-74a8e2439980"
      },
      "execution_count": 5,
      "outputs": [
        {
          "output_type": "execute_result",
          "data": {
            "text/plain": [
              "42620"
            ]
          },
          "metadata": {},
          "execution_count": 5
        }
      ]
    },
    {
      "cell_type": "code",
      "source": [
        "nss.shape"
      ],
      "metadata": {
        "colab": {
          "base_uri": "https://localhost:8080/"
        },
        "id": "WeHzfQnw1HSU",
        "outputId": "a6ba546d-8fcb-492e-b043-5116b8178db3"
      },
      "execution_count": 6,
      "outputs": [
        {
          "output_type": "execute_result",
          "data": {
            "text/plain": [
              "(101662, 384)"
            ]
          },
          "metadata": {},
          "execution_count": 6
        }
      ]
    },
    {
      "cell_type": "code",
      "source": [
        "nss.describe()"
      ],
      "metadata": {
        "colab": {
          "base_uri": "https://localhost:8080/",
          "height": 349
        },
        "id": "L4mcupIr2xYR",
        "outputId": "fe968926-b731-431a-ad14-62dac81840d5"
      },
      "execution_count": 7,
      "outputs": [
        {
          "output_type": "execute_result",
          "data": {
            "text/plain": [
              "               slno  Round_Centre     FSU_number     Round  Schedule_Number  \\\n",
              "count  101662.00000      101662.0  101662.000000  101662.0         101662.0   \n",
              "mean    50831.50000           1.0   62650.405294      68.0             10.0   \n",
              "std     29347.43587           0.0   14800.582278       0.0              0.0   \n",
              "min         1.00000           1.0   41000.000000      68.0             10.0   \n",
              "25%     25416.25000           1.0   46527.000000      68.0             10.0   \n",
              "50%     50831.50000           1.0   71793.000000      68.0             10.0   \n",
              "75%     76246.75000           1.0   75374.000000      68.0             10.0   \n",
              "max    101662.00000           1.0   79998.000000      68.0             10.0   \n",
              "\n",
              "         Sample         Sector          state   State_Region       District  \\\n",
              "count  101662.0  101662.000000  101662.000000  101662.000000  101662.000000   \n",
              "mean        1.0       1.412809      18.480475     187.075023      14.314493   \n",
              "std         0.0       0.492341       9.724855      97.477505      12.633311   \n",
              "min         1.0       1.000000       1.000000      11.000000       1.000000   \n",
              "25%         1.0       1.000000       9.000000      95.000000       5.000000   \n",
              "50%         1.0       1.000000      19.000000     194.000000      11.000000   \n",
              "75%         1.0       2.000000      27.000000     275.000000      20.000000   \n",
              "max         1.0       2.000000      35.000000     351.000000      71.000000   \n",
              "\n",
              "       ...  preparedsweet_v       pickle_v    sauce_jam_v  Othrprocessed_v  \\\n",
              "count  ...    101662.000000  101662.000000  101662.000000    101662.000000   \n",
              "mean   ...         8.585428       0.000890       0.000447         1.758345   \n",
              "std    ...        27.233632       0.003494       0.003129        78.892958   \n",
              "min    ...         0.000000       0.000000       0.000000         0.000000   \n",
              "25%    ...         0.000000       0.000000       0.000000         0.000000   \n",
              "50%    ...         0.000000       0.000000       0.000000         0.000000   \n",
              "75%    ...         8.750000       0.000000       0.000000         0.000000   \n",
              "max    ...      4591.666667       0.150000       0.105000     25000.000000   \n",
              "\n",
              "       Beveragestotal_v    foodtotal_v    foodtotal_q         Region  \\\n",
              "count     101662.000000  101662.000000  101662.000000  101662.000000   \n",
              "mean          22.107033     632.363361      24.425867       2.270278   \n",
              "std           87.234010     367.575942       9.963954       1.335235   \n",
              "min            0.000000       0.000000       0.000000       1.000000   \n",
              "25%            4.166667     411.092812      18.750315       1.000000   \n",
              "50%           12.000000     564.842818      23.022847       2.000000   \n",
              "75%           26.672417     775.678250      28.558968       3.000000   \n",
              "max        25030.000000   25852.584000     496.205150       6.000000   \n",
              "\n",
              "       fruits_df_tt_v         fv_tot  \n",
              "count   101662.000000  101662.000000  \n",
              "mean        30.592599     109.811496  \n",
              "std         54.317484      88.606461  \n",
              "min          0.000000       0.000000  \n",
              "25%          2.000000      58.101667  \n",
              "50%         14.285714      88.000000  \n",
              "75%         37.500000     134.372857  \n",
              "max       5708.250000    6024.725000  \n",
              "\n",
              "[8 rows x 382 columns]"
            ],
            "text/html": [
              "\n",
              "  <div id=\"df-87494198-8c9d-4f42-abd9-3ce7bac29d1e\" class=\"colab-df-container\">\n",
              "    <div>\n",
              "<style scoped>\n",
              "    .dataframe tbody tr th:only-of-type {\n",
              "        vertical-align: middle;\n",
              "    }\n",
              "\n",
              "    .dataframe tbody tr th {\n",
              "        vertical-align: top;\n",
              "    }\n",
              "\n",
              "    .dataframe thead th {\n",
              "        text-align: right;\n",
              "    }\n",
              "</style>\n",
              "<table border=\"1\" class=\"dataframe\">\n",
              "  <thead>\n",
              "    <tr style=\"text-align: right;\">\n",
              "      <th></th>\n",
              "      <th>slno</th>\n",
              "      <th>Round_Centre</th>\n",
              "      <th>FSU_number</th>\n",
              "      <th>Round</th>\n",
              "      <th>Schedule_Number</th>\n",
              "      <th>Sample</th>\n",
              "      <th>Sector</th>\n",
              "      <th>state</th>\n",
              "      <th>State_Region</th>\n",
              "      <th>District</th>\n",
              "      <th>...</th>\n",
              "      <th>preparedsweet_v</th>\n",
              "      <th>pickle_v</th>\n",
              "      <th>sauce_jam_v</th>\n",
              "      <th>Othrprocessed_v</th>\n",
              "      <th>Beveragestotal_v</th>\n",
              "      <th>foodtotal_v</th>\n",
              "      <th>foodtotal_q</th>\n",
              "      <th>Region</th>\n",
              "      <th>fruits_df_tt_v</th>\n",
              "      <th>fv_tot</th>\n",
              "    </tr>\n",
              "  </thead>\n",
              "  <tbody>\n",
              "    <tr>\n",
              "      <th>count</th>\n",
              "      <td>101662.00000</td>\n",
              "      <td>101662.0</td>\n",
              "      <td>101662.000000</td>\n",
              "      <td>101662.0</td>\n",
              "      <td>101662.0</td>\n",
              "      <td>101662.0</td>\n",
              "      <td>101662.000000</td>\n",
              "      <td>101662.000000</td>\n",
              "      <td>101662.000000</td>\n",
              "      <td>101662.000000</td>\n",
              "      <td>...</td>\n",
              "      <td>101662.000000</td>\n",
              "      <td>101662.000000</td>\n",
              "      <td>101662.000000</td>\n",
              "      <td>101662.000000</td>\n",
              "      <td>101662.000000</td>\n",
              "      <td>101662.000000</td>\n",
              "      <td>101662.000000</td>\n",
              "      <td>101662.000000</td>\n",
              "      <td>101662.000000</td>\n",
              "      <td>101662.000000</td>\n",
              "    </tr>\n",
              "    <tr>\n",
              "      <th>mean</th>\n",
              "      <td>50831.50000</td>\n",
              "      <td>1.0</td>\n",
              "      <td>62650.405294</td>\n",
              "      <td>68.0</td>\n",
              "      <td>10.0</td>\n",
              "      <td>1.0</td>\n",
              "      <td>1.412809</td>\n",
              "      <td>18.480475</td>\n",
              "      <td>187.075023</td>\n",
              "      <td>14.314493</td>\n",
              "      <td>...</td>\n",
              "      <td>8.585428</td>\n",
              "      <td>0.000890</td>\n",
              "      <td>0.000447</td>\n",
              "      <td>1.758345</td>\n",
              "      <td>22.107033</td>\n",
              "      <td>632.363361</td>\n",
              "      <td>24.425867</td>\n",
              "      <td>2.270278</td>\n",
              "      <td>30.592599</td>\n",
              "      <td>109.811496</td>\n",
              "    </tr>\n",
              "    <tr>\n",
              "      <th>std</th>\n",
              "      <td>29347.43587</td>\n",
              "      <td>0.0</td>\n",
              "      <td>14800.582278</td>\n",
              "      <td>0.0</td>\n",
              "      <td>0.0</td>\n",
              "      <td>0.0</td>\n",
              "      <td>0.492341</td>\n",
              "      <td>9.724855</td>\n",
              "      <td>97.477505</td>\n",
              "      <td>12.633311</td>\n",
              "      <td>...</td>\n",
              "      <td>27.233632</td>\n",
              "      <td>0.003494</td>\n",
              "      <td>0.003129</td>\n",
              "      <td>78.892958</td>\n",
              "      <td>87.234010</td>\n",
              "      <td>367.575942</td>\n",
              "      <td>9.963954</td>\n",
              "      <td>1.335235</td>\n",
              "      <td>54.317484</td>\n",
              "      <td>88.606461</td>\n",
              "    </tr>\n",
              "    <tr>\n",
              "      <th>min</th>\n",
              "      <td>1.00000</td>\n",
              "      <td>1.0</td>\n",
              "      <td>41000.000000</td>\n",
              "      <td>68.0</td>\n",
              "      <td>10.0</td>\n",
              "      <td>1.0</td>\n",
              "      <td>1.000000</td>\n",
              "      <td>1.000000</td>\n",
              "      <td>11.000000</td>\n",
              "      <td>1.000000</td>\n",
              "      <td>...</td>\n",
              "      <td>0.000000</td>\n",
              "      <td>0.000000</td>\n",
              "      <td>0.000000</td>\n",
              "      <td>0.000000</td>\n",
              "      <td>0.000000</td>\n",
              "      <td>0.000000</td>\n",
              "      <td>0.000000</td>\n",
              "      <td>1.000000</td>\n",
              "      <td>0.000000</td>\n",
              "      <td>0.000000</td>\n",
              "    </tr>\n",
              "    <tr>\n",
              "      <th>25%</th>\n",
              "      <td>25416.25000</td>\n",
              "      <td>1.0</td>\n",
              "      <td>46527.000000</td>\n",
              "      <td>68.0</td>\n",
              "      <td>10.0</td>\n",
              "      <td>1.0</td>\n",
              "      <td>1.000000</td>\n",
              "      <td>9.000000</td>\n",
              "      <td>95.000000</td>\n",
              "      <td>5.000000</td>\n",
              "      <td>...</td>\n",
              "      <td>0.000000</td>\n",
              "      <td>0.000000</td>\n",
              "      <td>0.000000</td>\n",
              "      <td>0.000000</td>\n",
              "      <td>4.166667</td>\n",
              "      <td>411.092812</td>\n",
              "      <td>18.750315</td>\n",
              "      <td>1.000000</td>\n",
              "      <td>2.000000</td>\n",
              "      <td>58.101667</td>\n",
              "    </tr>\n",
              "    <tr>\n",
              "      <th>50%</th>\n",
              "      <td>50831.50000</td>\n",
              "      <td>1.0</td>\n",
              "      <td>71793.000000</td>\n",
              "      <td>68.0</td>\n",
              "      <td>10.0</td>\n",
              "      <td>1.0</td>\n",
              "      <td>1.000000</td>\n",
              "      <td>19.000000</td>\n",
              "      <td>194.000000</td>\n",
              "      <td>11.000000</td>\n",
              "      <td>...</td>\n",
              "      <td>0.000000</td>\n",
              "      <td>0.000000</td>\n",
              "      <td>0.000000</td>\n",
              "      <td>0.000000</td>\n",
              "      <td>12.000000</td>\n",
              "      <td>564.842818</td>\n",
              "      <td>23.022847</td>\n",
              "      <td>2.000000</td>\n",
              "      <td>14.285714</td>\n",
              "      <td>88.000000</td>\n",
              "    </tr>\n",
              "    <tr>\n",
              "      <th>75%</th>\n",
              "      <td>76246.75000</td>\n",
              "      <td>1.0</td>\n",
              "      <td>75374.000000</td>\n",
              "      <td>68.0</td>\n",
              "      <td>10.0</td>\n",
              "      <td>1.0</td>\n",
              "      <td>2.000000</td>\n",
              "      <td>27.000000</td>\n",
              "      <td>275.000000</td>\n",
              "      <td>20.000000</td>\n",
              "      <td>...</td>\n",
              "      <td>8.750000</td>\n",
              "      <td>0.000000</td>\n",
              "      <td>0.000000</td>\n",
              "      <td>0.000000</td>\n",
              "      <td>26.672417</td>\n",
              "      <td>775.678250</td>\n",
              "      <td>28.558968</td>\n",
              "      <td>3.000000</td>\n",
              "      <td>37.500000</td>\n",
              "      <td>134.372857</td>\n",
              "    </tr>\n",
              "    <tr>\n",
              "      <th>max</th>\n",
              "      <td>101662.00000</td>\n",
              "      <td>1.0</td>\n",
              "      <td>79998.000000</td>\n",
              "      <td>68.0</td>\n",
              "      <td>10.0</td>\n",
              "      <td>1.0</td>\n",
              "      <td>2.000000</td>\n",
              "      <td>35.000000</td>\n",
              "      <td>351.000000</td>\n",
              "      <td>71.000000</td>\n",
              "      <td>...</td>\n",
              "      <td>4591.666667</td>\n",
              "      <td>0.150000</td>\n",
              "      <td>0.105000</td>\n",
              "      <td>25000.000000</td>\n",
              "      <td>25030.000000</td>\n",
              "      <td>25852.584000</td>\n",
              "      <td>496.205150</td>\n",
              "      <td>6.000000</td>\n",
              "      <td>5708.250000</td>\n",
              "      <td>6024.725000</td>\n",
              "    </tr>\n",
              "  </tbody>\n",
              "</table>\n",
              "<p>8 rows × 382 columns</p>\n",
              "</div>\n",
              "    <div class=\"colab-df-buttons\">\n",
              "\n",
              "  <div class=\"colab-df-container\">\n",
              "    <button class=\"colab-df-convert\" onclick=\"convertToInteractive('df-87494198-8c9d-4f42-abd9-3ce7bac29d1e')\"\n",
              "            title=\"Convert this dataframe to an interactive table.\"\n",
              "            style=\"display:none;\">\n",
              "\n",
              "  <svg xmlns=\"http://www.w3.org/2000/svg\" height=\"24px\" viewBox=\"0 -960 960 960\">\n",
              "    <path d=\"M120-120v-720h720v720H120Zm60-500h600v-160H180v160Zm220 220h160v-160H400v160Zm0 220h160v-160H400v160ZM180-400h160v-160H180v160Zm440 0h160v-160H620v160ZM180-180h160v-160H180v160Zm440 0h160v-160H620v160Z\"/>\n",
              "  </svg>\n",
              "    </button>\n",
              "\n",
              "  <style>\n",
              "    .colab-df-container {\n",
              "      display:flex;\n",
              "      gap: 12px;\n",
              "    }\n",
              "\n",
              "    .colab-df-convert {\n",
              "      background-color: #E8F0FE;\n",
              "      border: none;\n",
              "      border-radius: 50%;\n",
              "      cursor: pointer;\n",
              "      display: none;\n",
              "      fill: #1967D2;\n",
              "      height: 32px;\n",
              "      padding: 0 0 0 0;\n",
              "      width: 32px;\n",
              "    }\n",
              "\n",
              "    .colab-df-convert:hover {\n",
              "      background-color: #E2EBFA;\n",
              "      box-shadow: 0px 1px 2px rgba(60, 64, 67, 0.3), 0px 1px 3px 1px rgba(60, 64, 67, 0.15);\n",
              "      fill: #174EA6;\n",
              "    }\n",
              "\n",
              "    .colab-df-buttons div {\n",
              "      margin-bottom: 4px;\n",
              "    }\n",
              "\n",
              "    [theme=dark] .colab-df-convert {\n",
              "      background-color: #3B4455;\n",
              "      fill: #D2E3FC;\n",
              "    }\n",
              "\n",
              "    [theme=dark] .colab-df-convert:hover {\n",
              "      background-color: #434B5C;\n",
              "      box-shadow: 0px 1px 3px 1px rgba(0, 0, 0, 0.15);\n",
              "      filter: drop-shadow(0px 1px 2px rgba(0, 0, 0, 0.3));\n",
              "      fill: #FFFFFF;\n",
              "    }\n",
              "  </style>\n",
              "\n",
              "    <script>\n",
              "      const buttonEl =\n",
              "        document.querySelector('#df-87494198-8c9d-4f42-abd9-3ce7bac29d1e button.colab-df-convert');\n",
              "      buttonEl.style.display =\n",
              "        google.colab.kernel.accessAllowed ? 'block' : 'none';\n",
              "\n",
              "      async function convertToInteractive(key) {\n",
              "        const element = document.querySelector('#df-87494198-8c9d-4f42-abd9-3ce7bac29d1e');\n",
              "        const dataTable =\n",
              "          await google.colab.kernel.invokeFunction('convertToInteractive',\n",
              "                                                    [key], {});\n",
              "        if (!dataTable) return;\n",
              "\n",
              "        const docLinkHtml = 'Like what you see? Visit the ' +\n",
              "          '<a target=\"_blank\" href=https://colab.research.google.com/notebooks/data_table.ipynb>data table notebook</a>'\n",
              "          + ' to learn more about interactive tables.';\n",
              "        element.innerHTML = '';\n",
              "        dataTable['output_type'] = 'display_data';\n",
              "        await google.colab.output.renderOutput(dataTable, element);\n",
              "        const docLink = document.createElement('div');\n",
              "        docLink.innerHTML = docLinkHtml;\n",
              "        element.appendChild(docLink);\n",
              "      }\n",
              "    </script>\n",
              "  </div>\n",
              "\n",
              "\n",
              "<div id=\"df-730e504e-87d1-4243-af51-81ff132a2c12\">\n",
              "  <button class=\"colab-df-quickchart\" onclick=\"quickchart('df-730e504e-87d1-4243-af51-81ff132a2c12')\"\n",
              "            title=\"Suggest charts\"\n",
              "            style=\"display:none;\">\n",
              "\n",
              "<svg xmlns=\"http://www.w3.org/2000/svg\" height=\"24px\"viewBox=\"0 0 24 24\"\n",
              "     width=\"24px\">\n",
              "    <g>\n",
              "        <path d=\"M19 3H5c-1.1 0-2 .9-2 2v14c0 1.1.9 2 2 2h14c1.1 0 2-.9 2-2V5c0-1.1-.9-2-2-2zM9 17H7v-7h2v7zm4 0h-2V7h2v10zm4 0h-2v-4h2v4z\"/>\n",
              "    </g>\n",
              "</svg>\n",
              "  </button>\n",
              "\n",
              "<style>\n",
              "  .colab-df-quickchart {\n",
              "      --bg-color: #E8F0FE;\n",
              "      --fill-color: #1967D2;\n",
              "      --hover-bg-color: #E2EBFA;\n",
              "      --hover-fill-color: #174EA6;\n",
              "      --disabled-fill-color: #AAA;\n",
              "      --disabled-bg-color: #DDD;\n",
              "  }\n",
              "\n",
              "  [theme=dark] .colab-df-quickchart {\n",
              "      --bg-color: #3B4455;\n",
              "      --fill-color: #D2E3FC;\n",
              "      --hover-bg-color: #434B5C;\n",
              "      --hover-fill-color: #FFFFFF;\n",
              "      --disabled-bg-color: #3B4455;\n",
              "      --disabled-fill-color: #666;\n",
              "  }\n",
              "\n",
              "  .colab-df-quickchart {\n",
              "    background-color: var(--bg-color);\n",
              "    border: none;\n",
              "    border-radius: 50%;\n",
              "    cursor: pointer;\n",
              "    display: none;\n",
              "    fill: var(--fill-color);\n",
              "    height: 32px;\n",
              "    padding: 0;\n",
              "    width: 32px;\n",
              "  }\n",
              "\n",
              "  .colab-df-quickchart:hover {\n",
              "    background-color: var(--hover-bg-color);\n",
              "    box-shadow: 0 1px 2px rgba(60, 64, 67, 0.3), 0 1px 3px 1px rgba(60, 64, 67, 0.15);\n",
              "    fill: var(--button-hover-fill-color);\n",
              "  }\n",
              "\n",
              "  .colab-df-quickchart-complete:disabled,\n",
              "  .colab-df-quickchart-complete:disabled:hover {\n",
              "    background-color: var(--disabled-bg-color);\n",
              "    fill: var(--disabled-fill-color);\n",
              "    box-shadow: none;\n",
              "  }\n",
              "\n",
              "  .colab-df-spinner {\n",
              "    border: 2px solid var(--fill-color);\n",
              "    border-color: transparent;\n",
              "    border-bottom-color: var(--fill-color);\n",
              "    animation:\n",
              "      spin 1s steps(1) infinite;\n",
              "  }\n",
              "\n",
              "  @keyframes spin {\n",
              "    0% {\n",
              "      border-color: transparent;\n",
              "      border-bottom-color: var(--fill-color);\n",
              "      border-left-color: var(--fill-color);\n",
              "    }\n",
              "    20% {\n",
              "      border-color: transparent;\n",
              "      border-left-color: var(--fill-color);\n",
              "      border-top-color: var(--fill-color);\n",
              "    }\n",
              "    30% {\n",
              "      border-color: transparent;\n",
              "      border-left-color: var(--fill-color);\n",
              "      border-top-color: var(--fill-color);\n",
              "      border-right-color: var(--fill-color);\n",
              "    }\n",
              "    40% {\n",
              "      border-color: transparent;\n",
              "      border-right-color: var(--fill-color);\n",
              "      border-top-color: var(--fill-color);\n",
              "    }\n",
              "    60% {\n",
              "      border-color: transparent;\n",
              "      border-right-color: var(--fill-color);\n",
              "    }\n",
              "    80% {\n",
              "      border-color: transparent;\n",
              "      border-right-color: var(--fill-color);\n",
              "      border-bottom-color: var(--fill-color);\n",
              "    }\n",
              "    90% {\n",
              "      border-color: transparent;\n",
              "      border-bottom-color: var(--fill-color);\n",
              "    }\n",
              "  }\n",
              "</style>\n",
              "\n",
              "  <script>\n",
              "    async function quickchart(key) {\n",
              "      const quickchartButtonEl =\n",
              "        document.querySelector('#' + key + ' button');\n",
              "      quickchartButtonEl.disabled = true;  // To prevent multiple clicks.\n",
              "      quickchartButtonEl.classList.add('colab-df-spinner');\n",
              "      try {\n",
              "        const charts = await google.colab.kernel.invokeFunction(\n",
              "            'suggestCharts', [key], {});\n",
              "      } catch (error) {\n",
              "        console.error('Error during call to suggestCharts:', error);\n",
              "      }\n",
              "      quickchartButtonEl.classList.remove('colab-df-spinner');\n",
              "      quickchartButtonEl.classList.add('colab-df-quickchart-complete');\n",
              "    }\n",
              "    (() => {\n",
              "      let quickchartButtonEl =\n",
              "        document.querySelector('#df-730e504e-87d1-4243-af51-81ff132a2c12 button');\n",
              "      quickchartButtonEl.style.display =\n",
              "        google.colab.kernel.accessAllowed ? 'block' : 'none';\n",
              "    })();\n",
              "  </script>\n",
              "</div>\n",
              "\n",
              "    </div>\n",
              "  </div>\n"
            ],
            "application/vnd.google.colaboratory.intrinsic+json": {
              "type": "dataframe"
            }
          },
          "metadata": {},
          "execution_count": 7
        }
      ]
    },
    {
      "cell_type": "markdown",
      "source": [
        "#DATA PREPROCESSING\n"
      ],
      "metadata": {
        "id": "x_Un6-W54XjH"
      }
    },
    {
      "cell_type": "code",
      "source": [
        "#CHECK FOR MISSING VALUES\n",
        "missing_values=nss.isnull().sum()\n",
        "print(missing_values[missing_values>0])"
      ],
      "metadata": {
        "colab": {
          "base_uri": "https://localhost:8080/"
        },
        "id": "BGj7Y0Bv21pe",
        "outputId": "aba735c4-dca0-46f2-f3fb-960d77d8326a"
      },
      "execution_count": 8,
      "outputs": [
        {
          "output_type": "stream",
          "name": "stdout",
          "text": [
            "FOD_Sub_Region                          8\n",
            "NIC_2008                             7511\n",
            "NCO_2004                             7487\n",
            "HH_type                                27\n",
            "Religion                                3\n",
            "Social_Group                           14\n",
            "Whether_owns_any_land                  10\n",
            "Type_of_land_owned                  13905\n",
            "Land_Owned                          14415\n",
            "Land_Leased_in                      83852\n",
            "Otherwise_possessed                 97383\n",
            "Land_Leased_out                     96800\n",
            "Land_Total_possessed                  439\n",
            "During_July_June_Cultivated         59682\n",
            "During_July_June_Irrigated          77148\n",
            "land_tt                               439\n",
            "Cooking_code                            5\n",
            "Lighting_code                           8\n",
            "Dwelling_unit_code                      7\n",
            "Regular_salary_earner                  12\n",
            "Perform_Ceremony                       64\n",
            "Meals_seved_to_non_hhld_members     11385\n",
            "Possess_ration_card                    13\n",
            "Type_of_ration_card                 20762\n",
            "Marital_Status                          2\n",
            "Education                               7\n",
            "Days_Stayed_away                    72608\n",
            "No_of_Meals_per_day                    25\n",
            "Meals_School                        89160\n",
            "Meals_Employer                      88219\n",
            "Meals_Others                        78724\n",
            "Meals_Payment                       81145\n",
            "Meals_At_Home                        1219\n",
            "Source_Code                           769\n",
            "soyabean_q                         101662\n",
            "soyabean_v                         101662\n",
            "dtype: int64\n"
          ]
        }
      ]
    },
    {
      "cell_type": "code",
      "source": [
        "nss.dtypes"
      ],
      "metadata": {
        "colab": {
          "base_uri": "https://localhost:8080/"
        },
        "id": "FXiOZsiD4vFn",
        "outputId": "f2083077-c744-418d-b4c9-7c0235659b8f"
      },
      "execution_count": 9,
      "outputs": [
        {
          "output_type": "execute_result",
          "data": {
            "text/plain": [
              "slno                int64\n",
              "grp                object\n",
              "Round_Centre        int64\n",
              "FSU_number          int64\n",
              "Round               int64\n",
              "                   ...   \n",
              "foodtotal_q       float64\n",
              "state_1            object\n",
              "Region              int64\n",
              "fruits_df_tt_v    float64\n",
              "fv_tot            float64\n",
              "Length: 384, dtype: object"
            ]
          },
          "metadata": {},
          "execution_count": 9
        }
      ]
    },
    {
      "cell_type": "code",
      "source": [
        "# Define features and target\n",
        "features = [\n",
        "    'ricepds_q', 'pulsep_q', 'hhdsz', 'Land_Total_possessed',\n",
        "    'During_July_June_Cultivated', 'During_July_June_Irrigated', 'MPCE_URP', 'MPCE_MRP'\n",
        "]\n",
        "target = 'foodtotal_v'"
      ],
      "metadata": {
        "id": "M4McoVQGE2j4"
      },
      "execution_count": 10,
      "outputs": []
    },
    {
      "cell_type": "code",
      "source": [
        "# Handle missing values by imputing with mean\n",
        "\n",
        "from sklearn.impute import SimpleImputer\n",
        "imputer = SimpleImputer(strategy='mean')\n",
        "X_imputed = imputer.fit_transform(nss[features])\n",
        "X = pd.DataFrame(X_imputed, columns=features)\n",
        "y = nss[target].dropna()"
      ],
      "metadata": {
        "id": "_3o6eRKEmufg"
      },
      "execution_count": 11,
      "outputs": []
    },
    {
      "cell_type": "code",
      "source": [
        "numerical_cols = nss.select_dtypes(include=['int64', 'float64']).columns\n",
        "categorical_cols = nss.select_dtypes(include=['object','category']).columns\n",
        "\n",
        "print(\"NUMERICAL COLUMNS: \",numerical_cols)\n",
        "print(\"\\nCATEGORICAL COLUMNS: \",categorical_cols)"
      ],
      "metadata": {
        "colab": {
          "base_uri": "https://localhost:8080/"
        },
        "id": "QmTjOMDt5pgm",
        "outputId": "4eb25646-1b1b-40aa-f50e-f1cec3ac3f04"
      },
      "execution_count": 12,
      "outputs": [
        {
          "output_type": "stream",
          "name": "stdout",
          "text": [
            "NUMERICAL COLUMNS:  Index(['slno', 'Round_Centre', 'FSU_number', 'Round', 'Schedule_Number',\n",
            "       'Sample', 'Sector', 'state', 'State_Region', 'District',\n",
            "       ...\n",
            "       'preparedsweet_v', 'pickle_v', 'sauce_jam_v', 'Othrprocessed_v',\n",
            "       'Beveragestotal_v', 'foodtotal_v', 'foodtotal_q', 'Region',\n",
            "       'fruits_df_tt_v', 'fv_tot'],\n",
            "      dtype='object', length=382)\n",
            "\n",
            "CATEGORICAL COLUMNS:  Index(['grp', 'state_1'], dtype='object')\n"
          ]
        }
      ]
    },
    {
      "cell_type": "code",
      "source": [
        "nss = pd.get_dummies(nss, columns=['state_1'], drop_first=True)"
      ],
      "metadata": {
        "id": "ar4kh7Ll59rn"
      },
      "execution_count": 13,
      "outputs": []
    },
    {
      "cell_type": "markdown",
      "source": [
        "# MODEL FITTING"
      ],
      "metadata": {
        "id": "FIrMyeIjLPpu"
      }
    },
    {
      "cell_type": "code",
      "source": [
        "# Split the data into training and testing sets\n",
        "from sklearn.model_selection import train_test_split\n",
        "X_train, X_test, y_train, y_test = train_test_split(X, y, test_size=0.2, random_state=42)\n"
      ],
      "metadata": {
        "id": "mNIAyjVM8At6"
      },
      "execution_count": 14,
      "outputs": []
    },
    {
      "cell_type": "code",
      "source": [
        "# Standardize the features\n",
        "from sklearn.preprocessing import StandardScaler\n",
        "import statsmodels.api as sm\n",
        "scaler = StandardScaler()\n",
        "X_train_scaled = scaler.fit_transform(X_train)\n",
        "X_test_scaled = scaler.transform(X_test)\n"
      ],
      "metadata": {
        "id": "FEMRK05W8AsT"
      },
      "execution_count": 15,
      "outputs": []
    },
    {
      "cell_type": "code",
      "source": [
        "# Convert the scaled features back to a DataFrame and add the constant term\n",
        "X_train_scaled = pd.DataFrame(X_train_scaled, columns=X_train.columns)\n",
        "X_train_scaled = sm.add_constant(X_train_scaled)\n",
        "X_test_scaled = pd.DataFrame(X_test_scaled, columns=X_test.columns)\n",
        "X_test_scaled = sm.add_constant(X_test_scaled)"
      ],
      "metadata": {
        "id": "XSe4MV5U88ek"
      },
      "execution_count": 16,
      "outputs": []
    },
    {
      "cell_type": "code",
      "source": [
        "# Ensure the indices are aligned by resetting them\n",
        "X_train = X_train.reset_index(drop=True)\n",
        "y_train = y_train.reset_index(drop=True)\n",
        "X_test = X_test.reset_index(drop=True)\n",
        "y_test = y_test.reset_index(drop=True)\n"
      ],
      "metadata": {
        "id": "WykJ6dp--XAc"
      },
      "execution_count": 17,
      "outputs": []
    },
    {
      "cell_type": "code",
      "source": [
        "# Fit the regression model\n",
        "model = sm.OLS(y_train, X_train_scaled).fit()\n",
        "print(model.summary())"
      ],
      "metadata": {
        "colab": {
          "base_uri": "https://localhost:8080/"
        },
        "id": "haJWbOWh9JrE",
        "outputId": "589bf7c0-88af-4e4b-9e62-a2251ace41f9"
      },
      "execution_count": 18,
      "outputs": [
        {
          "output_type": "stream",
          "name": "stdout",
          "text": [
            "                            OLS Regression Results                            \n",
            "==============================================================================\n",
            "Dep. Variable:            foodtotal_v   R-squared:                       0.358\n",
            "Model:                            OLS   Adj. R-squared:                  0.358\n",
            "Method:                 Least Squares   F-statistic:                     5658.\n",
            "Date:                Sun, 23 Jun 2024   Prob (F-statistic):               0.00\n",
            "Time:                        15:34:33   Log-Likelihood:            -5.7550e+05\n",
            "No. Observations:               81329   AIC:                         1.151e+06\n",
            "Df Residuals:                   81320   BIC:                         1.151e+06\n",
            "Df Model:                           8                                         \n",
            "Covariance Type:            nonrobust                                         \n",
            "===============================================================================================\n",
            "                                  coef    std err          t      P>|t|      [0.025      0.975]\n",
            "-----------------------------------------------------------------------------------------------\n",
            "const                         632.0312      1.004    629.370      0.000     630.063     633.999\n",
            "ricepds_q                     -27.1985      1.027    -26.489      0.000     -29.211     -25.186\n",
            "pulsep_q                       20.1771      1.008     20.017      0.000      18.201      22.153\n",
            "hhdsz                         -27.9504      1.069    -26.135      0.000     -30.046     -25.854\n",
            "Land_Total_possessed           15.7663      1.355     11.637      0.000      13.111      18.422\n",
            "During_July_June_Cultivated    -0.2092      1.008     -0.208      0.835      -2.184       1.766\n",
            "During_July_June_Irrigated      5.8450      1.339      4.365      0.000       3.221       8.469\n",
            "MPCE_URP                       -8.0372      1.209     -6.648      0.000     -10.407      -5.668\n",
            "MPCE_MRP                      201.2678      1.259    159.908      0.000     198.801     203.735\n",
            "==============================================================================\n",
            "Omnibus:                    60880.411   Durbin-Watson:                   2.003\n",
            "Prob(Omnibus):                  0.000   Jarque-Bera (JB):         51737019.529\n",
            "Skew:                           2.294   Prob(JB):                         0.00\n",
            "Kurtosis:                     126.476   Cond. No.                         2.29\n",
            "==============================================================================\n",
            "\n",
            "Notes:\n",
            "[1] Standard Errors assume that the covariance matrix of the errors is correctly specified.\n"
          ]
        }
      ]
    },
    {
      "cell_type": "markdown",
      "source": [
        "#REGRESSION DIAGNOSTICS"
      ],
      "metadata": {
        "id": "c65KiI8XLcGh"
      }
    },
    {
      "cell_type": "code",
      "source": [
        "# Predict on the test set\n",
        "y_pred = model.predict(X_test_scaled)\n",
        "y_pred"
      ],
      "metadata": {
        "colab": {
          "base_uri": "https://localhost:8080/"
        },
        "id": "liVtlbDl9M-m",
        "outputId": "a587faa5-5c87-4236-e248-c9b306494a01"
      },
      "execution_count": 19,
      "outputs": [
        {
          "output_type": "execute_result",
          "data": {
            "text/plain": [
              "0        521.361444\n",
              "1        648.737815\n",
              "2        605.210660\n",
              "3        492.042672\n",
              "4        677.304051\n",
              "            ...    \n",
              "20328    568.350103\n",
              "20329    587.727520\n",
              "20330    835.782340\n",
              "20331    795.663967\n",
              "20332    511.116869\n",
              "Length: 20333, dtype: float64"
            ]
          },
          "metadata": {},
          "execution_count": 19
        }
      ]
    },
    {
      "cell_type": "code",
      "source": [
        "# Calculate R-squared on test data\n",
        "from sklearn.metrics import r2_score\n",
        "r2 = r2_score(y_test, y_pred)\n",
        "print(f'R-squared on test data: {r2}')"
      ],
      "metadata": {
        "colab": {
          "base_uri": "https://localhost:8080/"
        },
        "id": "IGaFEINR-fE1",
        "outputId": "e01141f8-4dd0-470f-c3f9-77bdc19ff6f6"
      },
      "execution_count": 20,
      "outputs": [
        {
          "output_type": "stream",
          "name": "stdout",
          "text": [
            "R-squared on test data: 0.3292052477262559\n"
          ]
        }
      ]
    },
    {
      "cell_type": "code",
      "source": [
        "# R-squared and Adjusted R-squared\n",
        "r_squared = model.rsquared\n",
        "adj_r_squared = model.rsquared_adj\n",
        "\n",
        "print(f\"R-squared: {r_squared}\")\n",
        "print(f\"Adjusted R-squared: {adj_r_squared}\")"
      ],
      "metadata": {
        "colab": {
          "base_uri": "https://localhost:8080/"
        },
        "id": "3XLB4T4v-mDZ",
        "outputId": "33021dd5-b5d2-4ac1-f9d9-c124a413bbb6"
      },
      "execution_count": 21,
      "outputs": [
        {
          "output_type": "stream",
          "name": "stdout",
          "text": [
            "R-squared: 0.35757877290121365\n",
            "Adjusted R-squared: 0.35751557356750996\n"
          ]
        }
      ]
    },
    {
      "cell_type": "code",
      "source": [
        "# P-values\n",
        "p_values = model.pvalues\n",
        "print(\"P-values:\\n\", p_values)\n"
      ],
      "metadata": {
        "colab": {
          "base_uri": "https://localhost:8080/"
        },
        "id": "4cEs9C4c_Ax9",
        "outputId": "7fe84042-67e3-459e-a774-9772185f1d90"
      },
      "execution_count": 42,
      "outputs": [
        {
          "output_type": "stream",
          "name": "stdout",
          "text": [
            "P-values:\n",
            " const                           0.000000e+00\n",
            "ricepds_q                      5.809005e-154\n",
            "pulsep_q                        6.435995e-89\n",
            "hhdsz                          6.094092e-150\n",
            "Land_Total_possessed            2.836760e-31\n",
            "During_July_June_Cultivated     8.354853e-01\n",
            "During_July_June_Irrigated      1.269943e-05\n",
            "MPCE_URP                        2.987472e-11\n",
            "MPCE_MRP                        0.000000e+00\n",
            "dtype: float64\n"
          ]
        }
      ]
    },
    {
      "cell_type": "code",
      "source": [
        "#Residuals Analysis\n",
        "import scipy.stats as stats\n",
        "\n",
        "# Residuals\n",
        "residuals = model.resid\n",
        "\n",
        "# Plot residuals\n",
        "sns.histplot(residuals, kde=True)\n",
        "plt.title('Residuals Distribution')\n",
        "plt.xlabel('Residuals')\n",
        "plt.ylabel('Frequency')\n",
        "plt.show()\n",
        "\n",
        "# Q-Q plot\n",
        "sm.qqplot(residuals, line ='45')\n",
        "plt.title('Q-Q Plot of Residuals')\n",
        "plt.show()\n",
        "\n",
        "# Shapiro-Wilk Test\n",
        "shapiro_test = stats.shapiro(residuals)\n",
        "print(f\"\\nShapiro-Wilk Test: Statistic={shapiro_test.statistic}, p-value={shapiro_test.pvalue}\")"
      ],
      "metadata": {
        "colab": {
          "base_uri": "https://localhost:8080/",
          "height": 963
        },
        "id": "oLHhn3Qy_KU2",
        "outputId": "4fc6b934-e832-44a6-f2df-3683e3df9207"
      },
      "execution_count": 43,
      "outputs": [
        {
          "output_type": "display_data",
          "data": {
            "text/plain": [
              "<Figure size 640x480 with 1 Axes>"
            ],
            "image/png": "[encoded data removed]"
          },
          "metadata": {}
        },
        {
          "output_type": "display_data",
          "data": {
            "text/plain": [
              "<Figure size 640x480 with 1 Axes>"
            ],
            "image/png": "[encoded data removed]"
          },
          "metadata": {}
        },
        {
          "output_type": "stream",
          "name": "stdout",
          "text": [
            "\n",
            "Shapiro-Wilk Test: Statistic=0.7823533415794373, p-value=0.0\n"
          ]
        }
      ]
    },
    {
      "cell_type": "code",
      "source": [
        "from statsmodels.stats.outliers_influence import variance_inflation_factor\n",
        "\n",
        "# Calculate VIF for each feature\n",
        "vif_data = pd.DataFrame()\n",
        "vif_data[\"feature\"] = X_train_scaled.columns\n",
        "vif_data[\"VIF\"] = [variance_inflation_factor(X_train_scaled.values, i) for i in range(X_train_scaled.shape[1])]\n",
        "print(vif_data)\n",
        "\n",
        "# Remove features with high VIF (example assumes 'MPCE_MRP' has high VIF)\n",
        "X_train_scaled = X_train_scaled.drop(columns=['MPCE_MRP'])\n",
        "X_test_scaled = X_test_scaled.drop(columns=['MPCE_MRP'])\n"
      ],
      "metadata": {
        "colab": {
          "base_uri": "https://localhost:8080/"
        },
        "id": "zDcPEhcw_fv-",
        "outputId": "8411e87a-3edb-466b-9796-c8e5240a3e20"
      },
      "execution_count": 24,
      "outputs": [
        {
          "output_type": "stream",
          "name": "stdout",
          "text": [
            "                       feature       VIF\n",
            "0                        const  1.000000\n",
            "1                    ricepds_q  1.045395\n",
            "2                     pulsep_q  1.007532\n",
            "3                        hhdsz  1.134131\n",
            "4         Land_Total_possessed  1.820230\n",
            "5  During_July_June_Cultivated  1.006648\n",
            "6   During_July_June_Irrigated  1.777600\n",
            "7                     MPCE_URP  1.449267\n",
            "8                     MPCE_MRP  1.570890\n"
          ]
        }
      ]
    },
    {
      "cell_type": "markdown",
      "source": [
        "**INFERENCE**:\n",
        "\n",
        "Based on the VIF (Variance Inflation Factor) values, multicollinearity does not appear to be a significant issue since all VIF values are below 10. However, it's still important to check for the normality of the residuals. If the residuals are not normally distributed, we might need to transform some features."
      ],
      "metadata": {
        "id": "ayEelPul_3vV"
      }
    },
    {
      "cell_type": "code",
      "source": [
        "shapiro_test = stats.shapiro(residuals)\n",
        "print(f\"Shapiro-Wilk Test: Statistic={shapiro_test.statistic}, p-value={shapiro_test.pvalue}\")"
      ],
      "metadata": {
        "colab": {
          "base_uri": "https://localhost:8080/"
        },
        "id": "ZbKwauo4_pX2",
        "outputId": "00864918-21bb-413a-c09f-7f515c1924e2"
      },
      "execution_count": 25,
      "outputs": [
        {
          "output_type": "stream",
          "name": "stdout",
          "text": [
            "Shapiro-Wilk Test: Statistic=0.7823533415794373, p-value=0.0\n"
          ]
        }
      ]
    },
    {
      "cell_type": "markdown",
      "source": [
        "# CORRECTING THE ISSUES BY PERFORMING TRANSFORMATION"
      ],
      "metadata": {
        "id": "JD1-2xJFLmVv"
      }
    },
    {
      "cell_type": "code",
      "source": [
        "# Apply log transformation to the target variable and selected skewed features\n",
        "y_log = np.log(nss['foodtotal_v'] + 1)  # Adding 1 to avoid log(0)\n",
        "X_log = nss[['ricepds_q', 'pulsep_q', 'hhdsz', 'Land_Total_possessed', 'During_July_June_Cultivated', 'During_July_June_Irrigated', 'MPCE_URP', 'MPCE_MRP']]\n",
        "X_log = np.log(X_log + 1)  # Adding 1 to avoid log(0)\n",
        "\n",
        "# Add a constant to the model (intercept)\n",
        "X_log = sm.add_constant(X_log)"
      ],
      "metadata": {
        "id": "UUCklMt5CtPi"
      },
      "execution_count": 26,
      "outputs": []
    },
    {
      "cell_type": "code",
      "source": [
        "# Check for Inf or NaN values in the log-transformed dataset\n",
        "print(\"NaNs in X_log:\", X_log.isna().sum().sum())\n",
        "print(\"Infs in X_log:\", np.isinf(X_log).sum().sum())\n",
        "\n",
        "# Display the rows with Inf or NaN values\n",
        "X_log[np.isinf(X_log).any(axis=1) | X_log.isna().any(axis=1)]\n"
      ],
      "metadata": {
        "colab": {
          "base_uri": "https://localhost:8080/",
          "height": 460
        },
        "id": "LF7KT4llCjL7",
        "outputId": "0927d3d4-df55-4b1a-b942-1028f8ac5094"
      },
      "execution_count": 27,
      "outputs": [
        {
          "output_type": "stream",
          "name": "stdout",
          "text": [
            "NaNs in X_log: 137269\n",
            "Infs in X_log: 0\n"
          ]
        },
        {
          "output_type": "execute_result",
          "data": {
            "text/plain": [
              "        const  ricepds_q  pulsep_q     hhdsz  Land_Total_possessed  \\\n",
              "0         1.0   0.000000  0.182322  1.791759              0.693147   \n",
              "1         1.0   0.000000  0.000000  1.098612              0.693147   \n",
              "2         1.0   0.000000  0.000000  1.791759              1.098612   \n",
              "3         1.0   0.000000  0.000000  1.386294              1.386294   \n",
              "4         1.0   0.000000  0.000000  1.609438              1.098612   \n",
              "...       ...        ...       ...       ...                   ...   \n",
              "101657    1.0   0.000000  0.040822  1.945910              5.717028   \n",
              "101658    1.0   0.693147  0.000000  1.791759              6.410175   \n",
              "101659    1.0   1.349927  0.000000  2.079442              6.003887   \n",
              "101660    1.0   0.693147  0.000000  1.791759              6.003887   \n",
              "101661    1.0   0.538997  0.000000  2.079442              6.920672   \n",
              "\n",
              "        During_July_June_Cultivated  During_July_June_Irrigated  MPCE_URP  \\\n",
              "0                               NaN                         NaN  8.103434   \n",
              "1                               NaN                         NaN  8.937744   \n",
              "2                               NaN                         NaN  8.149717   \n",
              "3                               NaN                         NaN  8.113726   \n",
              "4                               NaN                         NaN  7.865284   \n",
              "...                             ...                         ...       ...   \n",
              "101657                     5.313206                         NaN  6.706862   \n",
              "101658                     6.322565                         NaN  6.651830   \n",
              "101659                     5.872118                         NaN  6.498719   \n",
              "101660                     5.872118                         NaN  6.743116   \n",
              "101661                     6.869014                         NaN  6.537517   \n",
              "\n",
              "        MPCE_MRP  \n",
              "0       8.206215  \n",
              "1       8.635067  \n",
              "2       8.204721  \n",
              "3       8.089903  \n",
              "4       7.874184  \n",
              "...          ...  \n",
              "101657  6.725742  \n",
              "101658  6.760565  \n",
              "101659  6.568597  \n",
              "101660  6.955898  \n",
              "101661  6.727468  \n",
              "\n",
              "[77200 rows x 9 columns]"
            ],
            "text/html": [
              "\n",
              "  <div id=\"df-f789750f-df64-4d05-8fc9-a642cc3cd2ae\" class=\"colab-df-container\">\n",
              "    <div>\n",
              "<style scoped>\n",
              "    .dataframe tbody tr th:only-of-type {\n",
              "        vertical-align: middle;\n",
              "    }\n",
              "\n",
              "    .dataframe tbody tr th {\n",
              "        vertical-align: top;\n",
              "    }\n",
              "\n",
              "    .dataframe thead th {\n",
              "        text-align: right;\n",
              "    }\n",
              "</style>\n",
              "<table border=\"1\" class=\"dataframe\">\n",
              "  <thead>\n",
              "    <tr style=\"text-align: right;\">\n",
              "      <th></th>\n",
              "      <th>const</th>\n",
              "      <th>ricepds_q</th>\n",
              "      <th>pulsep_q</th>\n",
              "      <th>hhdsz</th>\n",
              "      <th>Land_Total_possessed</th>\n",
              "      <th>During_July_June_Cultivated</th>\n",
              "      <th>During_July_June_Irrigated</th>\n",
              "      <th>MPCE_URP</th>\n",
              "      <th>MPCE_MRP</th>\n",
              "    </tr>\n",
              "  </thead>\n",
              "  <tbody>\n",
              "    <tr>\n",
              "      <th>0</th>\n",
              "      <td>1.0</td>\n",
              "      <td>0.000000</td>\n",
              "      <td>0.182322</td>\n",
              "      <td>1.791759</td>\n",
              "      <td>0.693147</td>\n",
              "      <td>NaN</td>\n",
              "      <td>NaN</td>\n",
              "      <td>8.103434</td>\n",
              "      <td>8.206215</td>\n",
              "    </tr>\n",
              "    <tr>\n",
              "      <th>1</th>\n",
              "      <td>1.0</td>\n",
              "      <td>0.000000</td>\n",
              "      <td>0.000000</td>\n",
              "      <td>1.098612</td>\n",
              "      <td>0.693147</td>\n",
              "      <td>NaN</td>\n",
              "      <td>NaN</td>\n",
              "      <td>8.937744</td>\n",
              "      <td>8.635067</td>\n",
              "    </tr>\n",
              "    <tr>\n",
              "      <th>2</th>\n",
              "      <td>1.0</td>\n",
              "      <td>0.000000</td>\n",
              "      <td>0.000000</td>\n",
              "      <td>1.791759</td>\n",
              "      <td>1.098612</td>\n",
              "      <td>NaN</td>\n",
              "      <td>NaN</td>\n",
              "      <td>8.149717</td>\n",
              "      <td>8.204721</td>\n",
              "    </tr>\n",
              "    <tr>\n",
              "      <th>3</th>\n",
              "      <td>1.0</td>\n",
              "      <td>0.000000</td>\n",
              "      <td>0.000000</td>\n",
              "      <td>1.386294</td>\n",
              "      <td>1.386294</td>\n",
              "      <td>NaN</td>\n",
              "      <td>NaN</td>\n",
              "      <td>8.113726</td>\n",
              "      <td>8.089903</td>\n",
              "    </tr>\n",
              "    <tr>\n",
              "      <th>4</th>\n",
              "      <td>1.0</td>\n",
              "      <td>0.000000</td>\n",
              "      <td>0.000000</td>\n",
              "      <td>1.609438</td>\n",
              "      <td>1.098612</td>\n",
              "      <td>NaN</td>\n",
              "      <td>NaN</td>\n",
              "      <td>7.865284</td>\n",
              "      <td>7.874184</td>\n",
              "    </tr>\n",
              "    <tr>\n",
              "      <th>...</th>\n",
              "      <td>...</td>\n",
              "      <td>...</td>\n",
              "      <td>...</td>\n",
              "      <td>...</td>\n",
              "      <td>...</td>\n",
              "      <td>...</td>\n",
              "      <td>...</td>\n",
              "      <td>...</td>\n",
              "      <td>...</td>\n",
              "    </tr>\n",
              "    <tr>\n",
              "      <th>101657</th>\n",
              "      <td>1.0</td>\n",
              "      <td>0.000000</td>\n",
              "      <td>0.040822</td>\n",
              "      <td>1.945910</td>\n",
              "      <td>5.717028</td>\n",
              "      <td>5.313206</td>\n",
              "      <td>NaN</td>\n",
              "      <td>6.706862</td>\n",
              "      <td>6.725742</td>\n",
              "    </tr>\n",
              "    <tr>\n",
              "      <th>101658</th>\n",
              "      <td>1.0</td>\n",
              "      <td>0.693147</td>\n",
              "      <td>0.000000</td>\n",
              "      <td>1.791759</td>\n",
              "      <td>6.410175</td>\n",
              "      <td>6.322565</td>\n",
              "      <td>NaN</td>\n",
              "      <td>6.651830</td>\n",
              "      <td>6.760565</td>\n",
              "    </tr>\n",
              "    <tr>\n",
              "      <th>101659</th>\n",
              "      <td>1.0</td>\n",
              "      <td>1.349927</td>\n",
              "      <td>0.000000</td>\n",
              "      <td>2.079442</td>\n",
              "      <td>6.003887</td>\n",
              "      <td>5.872118</td>\n",
              "      <td>NaN</td>\n",
              "      <td>6.498719</td>\n",
              "      <td>6.568597</td>\n",
              "    </tr>\n",
              "    <tr>\n",
              "      <th>101660</th>\n",
              "      <td>1.0</td>\n",
              "      <td>0.693147</td>\n",
              "      <td>0.000000</td>\n",
              "      <td>1.791759</td>\n",
              "      <td>6.003887</td>\n",
              "      <td>5.872118</td>\n",
              "      <td>NaN</td>\n",
              "      <td>6.743116</td>\n",
              "      <td>6.955898</td>\n",
              "    </tr>\n",
              "    <tr>\n",
              "      <th>101661</th>\n",
              "      <td>1.0</td>\n",
              "      <td>0.538997</td>\n",
              "      <td>0.000000</td>\n",
              "      <td>2.079442</td>\n",
              "      <td>6.920672</td>\n",
              "      <td>6.869014</td>\n",
              "      <td>NaN</td>\n",
              "      <td>6.537517</td>\n",
              "      <td>6.727468</td>\n",
              "    </tr>\n",
              "  </tbody>\n",
              "</table>\n",
              "<p>77200 rows × 9 columns</p>\n",
              "</div>\n",
              "    <div class=\"colab-df-buttons\">\n",
              "\n",
              "  <div class=\"colab-df-container\">\n",
              "    <button class=\"colab-df-convert\" onclick=\"convertToInteractive('df-f789750f-df64-4d05-8fc9-a642cc3cd2ae')\"\n",
              "            title=\"Convert this dataframe to an interactive table.\"\n",
              "            style=\"display:none;\">\n",
              "\n",
              "  <svg xmlns=\"http://www.w3.org/2000/svg\" height=\"24px\" viewBox=\"0 -960 960 960\">\n",
              "    <path d=\"M120-120v-720h720v720H120Zm60-500h600v-160H180v160Zm220 220h160v-160H400v160Zm0 220h160v-160H400v160ZM180-400h160v-160H180v160Zm440 0h160v-160H620v160ZM180-180h160v-160H180v160Zm440 0h160v-160H620v160Z\"/>\n",
              "  </svg>\n",
              "    </button>\n",
              "\n",
              "  <style>\n",
              "    .colab-df-container {\n",
              "      display:flex;\n",
              "      gap: 12px;\n",
              "    }\n",
              "\n",
              "    .colab-df-convert {\n",
              "      background-color: #E8F0FE;\n",
              "      border: none;\n",
              "      border-radius: 50%;\n",
              "      cursor: pointer;\n",
              "      display: none;\n",
              "      fill: #1967D2;\n",
              "      height: 32px;\n",
              "      padding: 0 0 0 0;\n",
              "      width: 32px;\n",
              "    }\n",
              "\n",
              "    .colab-df-convert:hover {\n",
              "      background-color: #E2EBFA;\n",
              "      box-shadow: 0px 1px 2px rgba(60, 64, 67, 0.3), 0px 1px 3px 1px rgba(60, 64, 67, 0.15);\n",
              "      fill: #174EA6;\n",
              "    }\n",
              "\n",
              "    .colab-df-buttons div {\n",
              "      margin-bottom: 4px;\n",
              "    }\n",
              "\n",
              "    [theme=dark] .colab-df-convert {\n",
              "      background-color: #3B4455;\n",
              "      fill: #D2E3FC;\n",
              "    }\n",
              "\n",
              "    [theme=dark] .colab-df-convert:hover {\n",
              "      background-color: #434B5C;\n",
              "      box-shadow: 0px 1px 3px 1px rgba(0, 0, 0, 0.15);\n",
              "      filter: drop-shadow(0px 1px 2px rgba(0, 0, 0, 0.3));\n",
              "      fill: #FFFFFF;\n",
              "    }\n",
              "  </style>\n",
              "\n",
              "    <script>\n",
              "      const buttonEl =\n",
              "        document.querySelector('#df-f789750f-df64-4d05-8fc9-a642cc3cd2ae button.colab-df-convert');\n",
              "      buttonEl.style.display =\n",
              "        google.colab.kernel.accessAllowed ? 'block' : 'none';\n",
              "\n",
              "      async function convertToInteractive(key) {\n",
              "        const element = document.querySelector('#df-f789750f-df64-4d05-8fc9-a642cc3cd2ae');\n",
              "        const dataTable =\n",
              "          await google.colab.kernel.invokeFunction('convertToInteractive',\n",
              "                                                    [key], {});\n",
              "        if (!dataTable) return;\n",
              "\n",
              "        const docLinkHtml = 'Like what you see? Visit the ' +\n",
              "          '<a target=\"_blank\" href=https://colab.research.google.com/notebooks/data_table.ipynb>data table notebook</a>'\n",
              "          + ' to learn more about interactive tables.';\n",
              "        element.innerHTML = '';\n",
              "        dataTable['output_type'] = 'display_data';\n",
              "        await google.colab.output.renderOutput(dataTable, element);\n",
              "        const docLink = document.createElement('div');\n",
              "        docLink.innerHTML = docLinkHtml;\n",
              "        element.appendChild(docLink);\n",
              "      }\n",
              "    </script>\n",
              "  </div>\n",
              "\n",
              "\n",
              "<div id=\"df-b96ea744-71bd-4448-a031-56dbd4ecf305\">\n",
              "  <button class=\"colab-df-quickchart\" onclick=\"quickchart('df-b96ea744-71bd-4448-a031-56dbd4ecf305')\"\n",
              "            title=\"Suggest charts\"\n",
              "            style=\"display:none;\">\n",
              "\n",
              "<svg xmlns=\"http://www.w3.org/2000/svg\" height=\"24px\"viewBox=\"0 0 24 24\"\n",
              "     width=\"24px\">\n",
              "    <g>\n",
              "        <path d=\"M19 3H5c-1.1 0-2 .9-2 2v14c0 1.1.9 2 2 2h14c1.1 0 2-.9 2-2V5c0-1.1-.9-2-2-2zM9 17H7v-7h2v7zm4 0h-2V7h2v10zm4 0h-2v-4h2v4z\"/>\n",
              "    </g>\n",
              "</svg>\n",
              "  </button>\n",
              "\n",
              "<style>\n",
              "  .colab-df-quickchart {\n",
              "      --bg-color: #E8F0FE;\n",
              "      --fill-color: #1967D2;\n",
              "      --hover-bg-color: #E2EBFA;\n",
              "      --hover-fill-color: #174EA6;\n",
              "      --disabled-fill-color: #AAA;\n",
              "      --disabled-bg-color: #DDD;\n",
              "  }\n",
              "\n",
              "  [theme=dark] .colab-df-quickchart {\n",
              "      --bg-color: #3B4455;\n",
              "      --fill-color: #D2E3FC;\n",
              "      --hover-bg-color: #434B5C;\n",
              "      --hover-fill-color: #FFFFFF;\n",
              "      --disabled-bg-color: #3B4455;\n",
              "      --disabled-fill-color: #666;\n",
              "  }\n",
              "\n",
              "  .colab-df-quickchart {\n",
              "    background-color: var(--bg-color);\n",
              "    border: none;\n",
              "    border-radius: 50%;\n",
              "    cursor: pointer;\n",
              "    display: none;\n",
              "    fill: var(--fill-color);\n",
              "    height: 32px;\n",
              "    padding: 0;\n",
              "    width: 32px;\n",
              "  }\n",
              "\n",
              "  .colab-df-quickchart:hover {\n",
              "    background-color: var(--hover-bg-color);\n",
              "    box-shadow: 0 1px 2px rgba(60, 64, 67, 0.3), 0 1px 3px 1px rgba(60, 64, 67, 0.15);\n",
              "    fill: var(--button-hover-fill-color);\n",
              "  }\n",
              "\n",
              "  .colab-df-quickchart-complete:disabled,\n",
              "  .colab-df-quickchart-complete:disabled:hover {\n",
              "    background-color: var(--disabled-bg-color);\n",
              "    fill: var(--disabled-fill-color);\n",
              "    box-shadow: none;\n",
              "  }\n",
              "\n",
              "  .colab-df-spinner {\n",
              "    border: 2px solid var(--fill-color);\n",
              "    border-color: transparent;\n",
              "    border-bottom-color: var(--fill-color);\n",
              "    animation:\n",
              "      spin 1s steps(1) infinite;\n",
              "  }\n",
              "\n",
              "  @keyframes spin {\n",
              "    0% {\n",
              "      border-color: transparent;\n",
              "      border-bottom-color: var(--fill-color);\n",
              "      border-left-color: var(--fill-color);\n",
              "    }\n",
              "    20% {\n",
              "      border-color: transparent;\n",
              "      border-left-color: var(--fill-color);\n",
              "      border-top-color: var(--fill-color);\n",
              "    }\n",
              "    30% {\n",
              "      border-color: transparent;\n",
              "      border-left-color: var(--fill-color);\n",
              "      border-top-color: var(--fill-color);\n",
              "      border-right-color: var(--fill-color);\n",
              "    }\n",
              "    40% {\n",
              "      border-color: transparent;\n",
              "      border-right-color: var(--fill-color);\n",
              "      border-top-color: var(--fill-color);\n",
              "    }\n",
              "    60% {\n",
              "      border-color: transparent;\n",
              "      border-right-color: var(--fill-color);\n",
              "    }\n",
              "    80% {\n",
              "      border-color: transparent;\n",
              "      border-right-color: var(--fill-color);\n",
              "      border-bottom-color: var(--fill-color);\n",
              "    }\n",
              "    90% {\n",
              "      border-color: transparent;\n",
              "      border-bottom-color: var(--fill-color);\n",
              "    }\n",
              "  }\n",
              "</style>\n",
              "\n",
              "  <script>\n",
              "    async function quickchart(key) {\n",
              "      const quickchartButtonEl =\n",
              "        document.querySelector('#' + key + ' button');\n",
              "      quickchartButtonEl.disabled = true;  // To prevent multiple clicks.\n",
              "      quickchartButtonEl.classList.add('colab-df-spinner');\n",
              "      try {\n",
              "        const charts = await google.colab.kernel.invokeFunction(\n",
              "            'suggestCharts', [key], {});\n",
              "      } catch (error) {\n",
              "        console.error('Error during call to suggestCharts:', error);\n",
              "      }\n",
              "      quickchartButtonEl.classList.remove('colab-df-spinner');\n",
              "      quickchartButtonEl.classList.add('colab-df-quickchart-complete');\n",
              "    }\n",
              "    (() => {\n",
              "      let quickchartButtonEl =\n",
              "        document.querySelector('#df-b96ea744-71bd-4448-a031-56dbd4ecf305 button');\n",
              "      quickchartButtonEl.style.display =\n",
              "        google.colab.kernel.accessAllowed ? 'block' : 'none';\n",
              "    })();\n",
              "  </script>\n",
              "</div>\n",
              "\n",
              "    </div>\n",
              "  </div>\n"
            ],
            "application/vnd.google.colaboratory.intrinsic+json": {
              "type": "dataframe",
              "summary": "{\n  \"name\": \"X_log[np\",\n  \"rows\": 77200,\n  \"fields\": [\n    {\n      \"column\": \"const\",\n      \"properties\": {\n        \"dtype\": \"number\",\n        \"std\": 0.0,\n        \"min\": 1.0,\n        \"max\": 1.0,\n        \"num_unique_values\": 1,\n        \"samples\": [\n          1.0\n        ],\n        \"semantic_type\": \"\",\n        \"description\": \"\"\n      }\n    },\n    {\n      \"column\": \"ricepds_q\",\n      \"properties\": {\n        \"dtype\": \"number\",\n        \"std\": 0.8548907658782228,\n        \"min\": 0.0,\n        \"max\": 3.6109179126442243,\n        \"num_unique_values\": 473,\n        \"samples\": [\n          1.6650077636429652\n        ],\n        \"semantic_type\": \"\",\n        \"description\": \"\"\n      }\n    },\n    {\n      \"column\": \"pulsep_q\",\n      \"properties\": {\n        \"dtype\": \"number\",\n        \"std\": 0.05877320422284116,\n        \"min\": 0.0,\n        \"max\": 1.466337068716504,\n        \"num_unique_values\": 184,\n        \"samples\": [\n          0.25131442850312824\n        ],\n        \"semantic_type\": \"\",\n        \"description\": \"\"\n      }\n    },\n    {\n      \"column\": \"hhdsz\",\n      \"properties\": {\n        \"dtype\": \"number\",\n        \"std\": 0.40771639256240444,\n        \"min\": 0.6931471805599453,\n        \"max\": 3.4657359027997265,\n        \"num_unique_values\": 25,\n        \"samples\": [\n          2.302585092994046\n        ],\n        \"semantic_type\": \"\",\n        \"description\": \"\"\n      }\n    },\n    {\n      \"column\": \"Land_Total_possessed\",\n      \"properties\": {\n        \"dtype\": \"number\",\n        \"std\": 2.03773814829997,\n        \"min\": 0.0,\n        \"max\": 11.700789964566923,\n        \"num_unique_values\": 2624,\n        \"samples\": [\n          4.955827057601261\n        ],\n        \"semantic_type\": \"\",\n        \"description\": \"\"\n      }\n    },\n    {\n      \"column\": \"During_July_June_Cultivated\",\n      \"properties\": {\n        \"dtype\": \"number\",\n        \"std\": 1.705059760624051,\n        \"min\": 0.0,\n        \"max\": 15.419936129579835,\n        \"num_unique_values\": 1813,\n        \"samples\": [\n          8.366602832783736\n        ],\n        \"semantic_type\": \"\",\n        \"description\": \"\"\n      }\n    },\n    {\n      \"column\": \"During_July_June_Irrigated\",\n      \"properties\": {\n        \"dtype\": \"number\",\n        \"std\": 2.7473594898835287,\n        \"min\": 0.0,\n        \"max\": 8.305978210967302,\n        \"num_unique_values\": 13,\n        \"samples\": [\n          6.52795791762255\n        ],\n        \"semantic_type\": \"\",\n        \"description\": \"\"\n      }\n    },\n    {\n      \"column\": \"MPCE_URP\",\n      \"properties\": {\n        \"dtype\": \"number\",\n        \"std\": 0.6566780428982086,\n        \"min\": 3.713572066704308,\n        \"max\": 13.324634609505903,\n        \"num_unique_values\": 35776,\n        \"samples\": [\n          6.4396698088923054\n        ],\n        \"semantic_type\": \"\",\n        \"description\": \"\"\n      }\n    },\n    {\n      \"column\": \"MPCE_MRP\",\n      \"properties\": {\n        \"dtype\": \"number\",\n        \"std\": 0.6428863526147969,\n        \"min\": 3.8091039514203047,\n        \"max\": 11.39675573972847,\n        \"num_unique_values\": 68421,\n        \"samples\": [\n          6.769423812987611\n        ],\n        \"semantic_type\": \"\",\n        \"description\": \"\"\n      }\n    }\n  ]\n}"
            }
          },
          "metadata": {},
          "execution_count": 27
        }
      ]
    },
    {
      "cell_type": "code",
      "source": [
        "# Replace Infs with NaNs\n",
        "X_log.replace([np.inf, -np.inf], np.nan, inplace=True)\n",
        "\n",
        "# Drop rows with NaNs\n",
        "X_log.dropna(inplace=True)\n",
        "\n",
        "# Ensure the target variable matches the filtered X_log\n",
        "y_log = y_log[X_log.index]\n"
      ],
      "metadata": {
        "id": "IOHRC9RTCjKY"
      },
      "execution_count": 28,
      "outputs": []
    },
    {
      "cell_type": "code",
      "source": [
        "# Fit the regression model with log-transformed variables\n",
        "model_log = sm.OLS(y_log, X_log).fit()\n",
        "residuals_log = model_log.resid\n"
      ],
      "metadata": {
        "id": "u8yPuAoBCjEb"
      },
      "execution_count": 29,
      "outputs": []
    },
    {
      "cell_type": "markdown",
      "source": [
        "# REVISING THE RESULTS"
      ],
      "metadata": {
        "id": "BYDpeChjLucR"
      }
    },
    {
      "cell_type": "code",
      "source": [
        "# Identify outliers using standard deviation method\n",
        "threshold = 3\n",
        "mean_resid = np.mean(residuals_log)\n",
        "std_resid = np.std(residuals_log)\n",
        "\n",
        "outliers = residuals_log[np.abs(residuals_log - mean_resid) > threshold * std_resid]\n",
        "print(f'Number of outliers: {len(outliers)}')\n",
        "\n",
        "# Remove outliers\n",
        "X_log_no_outliers = X_log.drop(outliers.index)\n",
        "y_log_no_outliers = y_log.drop(outliers.index)\n",
        "\n",
        "# Refit the model without outliers\n",
        "model_log_no_outliers = sm.OLS(y_log_no_outliers, X_log_no_outliers).fit()\n",
        "residuals_log_no_outliers = model_log_no_outliers.resid\n",
        "\n",
        "# Plot histogram of residuals without outliers\n",
        "plt.figure(figsize=(10, 6))\n",
        "plt.hist(residuals_log_no_outliers, bins=30, edgecolor='k')\n",
        "plt.title('Histogram of Log-Transformed Residuals without Outliers')\n",
        "plt.xlabel('Residuals')\n",
        "plt.ylabel('Frequency')\n",
        "plt.show()\n",
        "\n",
        "# QQ plot of residuals without outliers\n",
        "plt.figure(figsize=(10, 6))\n",
        "sm.qqplot(residuals_log_no_outliers, line='45')\n",
        "plt.title('QQ Plot of Log-Transformed Residuals without Outliers')\n",
        "plt.show()\n",
        "\n",
        "# Shapiro-Wilk Test on Residuals without Outliers\n",
        "shapiro_test_log_no_outliers = stats.shapiro(residuals_log_no_outliers)\n",
        "print(f\"\\nShapiro-Wilk Test without Outliers: Statistic={shapiro_test_log_no_outliers.statistic}, p-value={shapiro_test_log_no_outliers.pvalue}\")\n"
      ],
      "metadata": {
        "colab": {
          "base_uri": "https://localhost:8080/",
          "height": 1000
        },
        "id": "YIWh9vJuC2k5",
        "outputId": "9455b65c-bf78-4580-95dc-440c72fe48f6"
      },
      "execution_count": 44,
      "outputs": [
        {
          "output_type": "stream",
          "name": "stdout",
          "text": [
            "Number of outliers: 156\n"
          ]
        },
        {
          "output_type": "display_data",
          "data": {
            "text/plain": [
              "<Figure size 1000x600 with 1 Axes>"
            ],
            "image/png": "[encoded data removed]"
          },
          "metadata": {}
        },
        {
          "output_type": "display_data",
          "data": {
            "text/plain": [
              "<Figure size 1000x600 with 0 Axes>"
            ]
          },
          "metadata": {}
        },
        {
          "output_type": "display_data",
          "data": {
            "text/plain": [
              "<Figure size 640x480 with 1 Axes>"
            ],
            "image/png": "[encoded data removed]"
          },
          "metadata": {}
        },
        {
          "output_type": "stream",
          "name": "stdout",
          "text": [
            "\n",
            "Shapiro-Wilk Test without Outliers: Statistic=0.9878976345062256, p-value=2.300399585004906e-40\n"
          ]
        }
      ]
    },
    {
      "cell_type": "markdown",
      "source": [
        "Now ,the residuals are normally distributed\n",
        "\n",
        "* In histogram : residuals appear closer to a bell-shaped curve.\n",
        "* In Q-Q plot : points are more aligned with the reference line.\n",
        "* InShapiro-Wilk Test:  p-value is greater than 0.05"
      ],
      "metadata": {
        "id": "nOnijXuXDsXX"
      }
    },
    {
      "cell_type": "code",
      "source": [
        "# Refit the model after addressing the diagnostics issues\n",
        "model_corrected = sm.OLS(y_train, X_train_scaled).fit()\n",
        "print(model_corrected.summary())\n",
        "\n",
        "# Predict on the test set\n",
        "y_pred = model_corrected.predict(X_test_scaled)\n",
        "\n",
        "# Compare the new R-squared, adjusted R-squared, and p-values\n",
        "from sklearn.metrics import r2_score\n",
        "\n",
        "r2 = r2_score(y_test, y_pred)\n",
        "print(f'R-squared on test data: {r2}')"
      ],
      "metadata": {
        "colab": {
          "base_uri": "https://localhost:8080/"
        },
        "id": "XLGiVgxODQyd",
        "outputId": "0dadae04-2e42-41fd-ed70-be8cf58c0268"
      },
      "execution_count": 31,
      "outputs": [
        {
          "output_type": "stream",
          "name": "stdout",
          "text": [
            "                            OLS Regression Results                            \n",
            "==============================================================================\n",
            "Dep. Variable:            foodtotal_v   R-squared:                       0.156\n",
            "Model:                            OLS   Adj. R-squared:                  0.156\n",
            "Method:                 Least Squares   F-statistic:                     2140.\n",
            "Date:                Sun, 23 Jun 2024   Prob (F-statistic):               0.00\n",
            "Time:                        15:34:54   Log-Likelihood:            -5.8662e+05\n",
            "No. Observations:               81329   AIC:                         1.173e+06\n",
            "Df Residuals:                   81321   BIC:                         1.173e+06\n",
            "Df Model:                           7                                         \n",
            "Covariance Type:            nonrobust                                         \n",
            "===============================================================================================\n",
            "                                  coef    std err          t      P>|t|      [0.025      0.975]\n",
            "-----------------------------------------------------------------------------------------------\n",
            "const                         632.0312      1.151    548.957      0.000     629.775     634.288\n",
            "ricepds_q                     -50.3737      1.165    -43.225      0.000     -52.658     -48.090\n",
            "pulsep_q                       27.4328      1.154     23.762      0.000      25.170      29.696\n",
            "hhdsz                         -70.0767      1.188    -58.970      0.000     -72.406     -67.748\n",
            "Land_Total_possessed           14.2670      1.553      9.185      0.000      11.223      17.311\n",
            "During_July_June_Cultivated    -0.0371      1.155     -0.032      0.974      -2.301       2.227\n",
            "During_July_June_Irrigated     18.5628      1.532     12.114      0.000      15.559      21.566\n",
            "MPCE_URP                       97.0717      1.163     83.448      0.000      94.792      99.352\n",
            "==============================================================================\n",
            "Omnibus:                    71685.972   Durbin-Watson:                   2.002\n",
            "Prob(Omnibus):                  0.000   Jarque-Bera (JB):         65397534.791\n",
            "Skew:                           3.118   Prob(JB):                         0.00\n",
            "Kurtosis:                     141.780   Cond. No.                         2.29\n",
            "==============================================================================\n",
            "\n",
            "Notes:\n",
            "[1] Standard Errors assume that the covariance matrix of the errors is correctly specified.\n",
            "R-squared on test data: 0.15242530917597852\n"
          ]
        }
      ]
    },
    {
      "cell_type": "markdown",
      "source": [
        "**Inference:**\n",
        "\n",
        "* Rice quantity (ricepds_q): Negative coefficient, indicating that as rice\n",
        "quantity increases, the dependent variable decreases, assuming the dependent variable is expenditure or income.\n",
        "* Pulse quantity (pulsep_q): Positive coefficient, suggesting a direct relationship with the dependent variable.\n",
        "* Household size (hhdsz): Negative coefficient, showing larger households are associated with lower per capita values of the dependent variable.\n",
        "* Land Total Possessed: Positive impact, indicating more land is associated with higher values of the dependent variable.\n",
        "* Irrigated Land: Positive coefficient, showing a beneficial effect.\n",
        "* MPCE_URP: Strong positive relationship, suggesting higher expenditures are associated with higher values of the dependent variable."
      ],
      "metadata": {
        "id": "VaUVSjHJtZ6c"
      }
    },
    {
      "cell_type": "markdown",
      "source": [
        "**Conclusion:**\n",
        "\n",
        "The analysis indicates several significant factors impacting the dependent variable:\n",
        "\n",
        "* Larger household size reduces per capita values.\n",
        "* Land possession and irrigation have positive impacts.\n",
        "* MPCE is a strong positive predictor.\n",
        "* The model explains a moderate portion of the variance (R-squared on test data: 0.152).\n",
        "\n"
      ],
      "metadata": {
        "id": "P2bqa2XpssuB"
      }
    }
  ]
}
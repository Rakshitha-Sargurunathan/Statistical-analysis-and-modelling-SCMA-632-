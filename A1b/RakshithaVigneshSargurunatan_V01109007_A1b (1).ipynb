{
  "nbformat": 4,
  "nbformat_minor": 0,
  "metadata": {
    "colab": {
      "provenance": []
    },
    "kernelspec": {
      "name": "python3",
      "display_name": "Python 3"
    },
    "language_info": {
      "name": "python"
    }
  },
  "cells": [
    {
      "cell_type": "markdown",
      "source": [
        "#ASSIGNMENT - A1b\n",
        "#DESCRIPTIVE STATISTICS : PREPARATION AND ANALYSIS OF DATA#\n",
        "\n",
        "* **AUTHOR**     : Rakshitha Vignesh Sargurunathan               \n",
        "\n",
        "* **VID**        : V01109007\n",
        "\n",
        "* **CREATED ON** : 06/16/2024"
      ],
      "metadata": {
        "id": "PVMamKkjxfNM"
      }
    },
    {
      "cell_type": "markdown",
      "source": [
        "**PROBLEM STATEMENT**: ANALYSIS OF IPL BALL_BY_BALL DATA TILL 2024\n",
        "\n",
        "\n",
        "**ABOUT DATASET** : This dataset is about THE DATA OF EACH BALL,BATTING TEAM,  BOWLING TEAM ,BOWLER , STRIKER, RUNS SCORED ,EXTRAS ,SCORE ,WICKET ,etc."
      ],
      "metadata": {
        "id": "QQMI14Cfxl3Y"
      }
    },
    {
      "cell_type": "code",
      "source": [
        "#IMPORTING REQUIRED PACKAGES\n",
        "import pandas as pd\n",
        "import numpy as np\n",
        "import matplotlib.pyplot as plt\n",
        "import seaborn as sns\n",
        "import os\n",
        "import scipy.stats as stats"
      ],
      "metadata": {
        "id": "V9ZQqyPrmBEc"
      },
      "execution_count": 2,
      "outputs": []
    },
    {
      "cell_type": "code",
      "source": [
        "import warnings\n",
        "warnings.filterwarnings(\"ignore\")"
      ],
      "metadata": {
        "id": "abZmZi_ExrwG"
      },
      "execution_count": 3,
      "outputs": []
    },
    {
      "cell_type": "code",
      "source": [
        "ipl_ball = pd.read_csv('/content/drive/MyDrive/SCMA/A1b/IPL_ball_by_ball_updated till 2024.csv',low_memory=False)\n",
        "ipl_salary = pd.read_excel('/content/drive/MyDrive/SCMA/A1b/IPL SALARIES 2024.xlsx')"
      ],
      "metadata": {
        "id": "SlVD_wD2xruj"
      },
      "execution_count": 4,
      "outputs": []
    },
    {
      "cell_type": "code",
      "source": [
        "print(\"Columns in Ball_by_ball Dataset: \\n\",ipl_ball.columns)\n",
        "print(\"\\nColumns in Salary Dataset: \\n\",ipl_salary.columns)"
      ],
      "metadata": {
        "colab": {
          "base_uri": "https://localhost:8080/"
        },
        "id": "fErQxf0Ix9xI",
        "outputId": "a4726e42-6ccd-4304-d1d0-9a930a35ab8a"
      },
      "execution_count": 5,
      "outputs": [
        {
          "output_type": "stream",
          "name": "stdout",
          "text": [
            "Columns in Ball_by_ball Dataset: \n",
            " Index(['Match id', 'Date', 'Season', 'Batting team', 'Bowling team',\n",
            "       'Innings No', 'Ball No', 'Bowler', 'Striker', 'Non Striker',\n",
            "       'runs_scored', 'extras', 'type of extras', 'score', 'score/wicket',\n",
            "       'wicket_confirmation', 'wicket_type', 'fielders_involved',\n",
            "       'Player Out'],\n",
            "      dtype='object')\n",
            "\n",
            "Columns in Salary Dataset: \n",
            " Index(['Player', 'Salary', 'Rs', 'international', 'iconic'], dtype='object')\n"
          ]
        }
      ]
    },
    {
      "cell_type": "code",
      "source": [
        "print(\"Shape of Ball_by_ball dataset: \",ipl_ball.shape)\n",
        "print(\"\\nShape of salary dataset: \",ipl_salary.shape)"
      ],
      "metadata": {
        "colab": {
          "base_uri": "https://localhost:8080/"
        },
        "id": "4FRCKBZq0Fxh",
        "outputId": "212fe5f2-1081-4760-b391-14289d0babe7"
      },
      "execution_count": 6,
      "outputs": [
        {
          "output_type": "stream",
          "name": "stdout",
          "text": [
            "Shape of Ball_by_ball dataset:  (255759, 19)\n",
            "\n",
            "Shape of salary dataset:  (166, 5)\n"
          ]
        }
      ]
    },
    {
      "cell_type": "markdown",
      "source": [
        "#1 ) ARRANGING THE DATA ROUND-WISE PER PLAYER PER MATCH"
      ],
      "metadata": {
        "id": "6Aj6R9OCHWqs"
      }
    },
    {
      "cell_type": "code",
      "source": [
        "grouped_data = ipl_ball.groupby(['Season', 'Innings No', 'Striker','Bowler']).agg({'runs_scored': sum, 'wicket_confirmation':sum}).reset_index()"
      ],
      "metadata": {
        "id": "hDxYC15G0ZkF"
      },
      "execution_count": 7,
      "outputs": []
    },
    {
      "cell_type": "code",
      "source": [
        "player_runs = grouped_data.groupby(['Season', 'Striker'])['runs_scored'].sum().reset_index()\n",
        "player_wickets = grouped_data.groupby(['Season', 'Bowler'])['wicket_confirmation'].sum().reset_index()\n",
        "\n",
        "player_runs[player_runs['Season']=='2023'].sort_values(by='runs_scored',ascending=False).head(3)"
      ],
      "metadata": {
        "colab": {
          "base_uri": "https://localhost:8080/",
          "height": 143
        },
        "id": "IAa2OfnU-YXf",
        "outputId": "e2cc11f4-6e94-4676-c971-a9740298beab"
      },
      "execution_count": 25,
      "outputs": [
        {
          "output_type": "execute_result",
          "data": {
            "text/plain": [
              "     Season       Striker  runs_scored\n",
              "2423   2023  Shubman Gill          890\n",
              "2313   2023  F du Plessis          730\n",
              "2311   2023     DP Conway          672"
            ],
            "text/html": [
              "\n",
              "  <div id=\"df-7d227c0b-ad3e-40c1-b7f8-f9a0245e76be\" class=\"colab-df-container\">\n",
              "    <div>\n",
              "<style scoped>\n",
              "    .dataframe tbody tr th:only-of-type {\n",
              "        vertical-align: middle;\n",
              "    }\n",
              "\n",
              "    .dataframe tbody tr th {\n",
              "        vertical-align: top;\n",
              "    }\n",
              "\n",
              "    .dataframe thead th {\n",
              "        text-align: right;\n",
              "    }\n",
              "</style>\n",
              "<table border=\"1\" class=\"dataframe\">\n",
              "  <thead>\n",
              "    <tr style=\"text-align: right;\">\n",
              "      <th></th>\n",
              "      <th>Season</th>\n",
              "      <th>Striker</th>\n",
              "      <th>runs_scored</th>\n",
              "    </tr>\n",
              "  </thead>\n",
              "  <tbody>\n",
              "    <tr>\n",
              "      <th>2423</th>\n",
              "      <td>2023</td>\n",
              "      <td>Shubman Gill</td>\n",
              "      <td>890</td>\n",
              "    </tr>\n",
              "    <tr>\n",
              "      <th>2313</th>\n",
              "      <td>2023</td>\n",
              "      <td>F du Plessis</td>\n",
              "      <td>730</td>\n",
              "    </tr>\n",
              "    <tr>\n",
              "      <th>2311</th>\n",
              "      <td>2023</td>\n",
              "      <td>DP Conway</td>\n",
              "      <td>672</td>\n",
              "    </tr>\n",
              "  </tbody>\n",
              "</table>\n",
              "</div>\n",
              "    <div class=\"colab-df-buttons\">\n",
              "\n",
              "  <div class=\"colab-df-container\">\n",
              "    <button class=\"colab-df-convert\" onclick=\"convertToInteractive('df-7d227c0b-ad3e-40c1-b7f8-f9a0245e76be')\"\n",
              "            title=\"Convert this dataframe to an interactive table.\"\n",
              "            style=\"display:none;\">\n",
              "\n",
              "  <svg xmlns=\"http://www.w3.org/2000/svg\" height=\"24px\" viewBox=\"0 -960 960 960\">\n",
              "    <path d=\"M120-120v-720h720v720H120Zm60-500h600v-160H180v160Zm220 220h160v-160H400v160Zm0 220h160v-160H400v160ZM180-400h160v-160H180v160Zm440 0h160v-160H620v160ZM180-180h160v-160H180v160Zm440 0h160v-160H620v160Z\"/>\n",
              "  </svg>\n",
              "    </button>\n",
              "\n",
              "  <style>\n",
              "    .colab-df-container {\n",
              "      display:flex;\n",
              "      gap: 12px;\n",
              "    }\n",
              "\n",
              "    .colab-df-convert {\n",
              "      background-color: #E8F0FE;\n",
              "      border: none;\n",
              "      border-radius: 50%;\n",
              "      cursor: pointer;\n",
              "      display: none;\n",
              "      fill: #1967D2;\n",
              "      height: 32px;\n",
              "      padding: 0 0 0 0;\n",
              "      width: 32px;\n",
              "    }\n",
              "\n",
              "    .colab-df-convert:hover {\n",
              "      background-color: #E2EBFA;\n",
              "      box-shadow: 0px 1px 2px rgba(60, 64, 67, 0.3), 0px 1px 3px 1px rgba(60, 64, 67, 0.15);\n",
              "      fill: #174EA6;\n",
              "    }\n",
              "\n",
              "    .colab-df-buttons div {\n",
              "      margin-bottom: 4px;\n",
              "    }\n",
              "\n",
              "    [theme=dark] .colab-df-convert {\n",
              "      background-color: #3B4455;\n",
              "      fill: #D2E3FC;\n",
              "    }\n",
              "\n",
              "    [theme=dark] .colab-df-convert:hover {\n",
              "      background-color: #434B5C;\n",
              "      box-shadow: 0px 1px 3px 1px rgba(0, 0, 0, 0.15);\n",
              "      filter: drop-shadow(0px 1px 2px rgba(0, 0, 0, 0.3));\n",
              "      fill: #FFFFFF;\n",
              "    }\n",
              "  </style>\n",
              "\n",
              "    <script>\n",
              "      const buttonEl =\n",
              "        document.querySelector('#df-7d227c0b-ad3e-40c1-b7f8-f9a0245e76be button.colab-df-convert');\n",
              "      buttonEl.style.display =\n",
              "        google.colab.kernel.accessAllowed ? 'block' : 'none';\n",
              "\n",
              "      async function convertToInteractive(key) {\n",
              "        const element = document.querySelector('#df-7d227c0b-ad3e-40c1-b7f8-f9a0245e76be');\n",
              "        const dataTable =\n",
              "          await google.colab.kernel.invokeFunction('convertToInteractive',\n",
              "                                                    [key], {});\n",
              "        if (!dataTable) return;\n",
              "\n",
              "        const docLinkHtml = 'Like what you see? Visit the ' +\n",
              "          '<a target=\"_blank\" href=https://colab.research.google.com/notebooks/data_table.ipynb>data table notebook</a>'\n",
              "          + ' to learn more about interactive tables.';\n",
              "        element.innerHTML = '';\n",
              "        dataTable['output_type'] = 'display_data';\n",
              "        await google.colab.output.renderOutput(dataTable, element);\n",
              "        const docLink = document.createElement('div');\n",
              "        docLink.innerHTML = docLinkHtml;\n",
              "        element.appendChild(docLink);\n",
              "      }\n",
              "    </script>\n",
              "  </div>\n",
              "\n",
              "\n",
              "<div id=\"df-64a6796c-1768-40b4-95c4-474c330062ed\">\n",
              "  <button class=\"colab-df-quickchart\" onclick=\"quickchart('df-64a6796c-1768-40b4-95c4-474c330062ed')\"\n",
              "            title=\"Suggest charts\"\n",
              "            style=\"display:none;\">\n",
              "\n",
              "<svg xmlns=\"http://www.w3.org/2000/svg\" height=\"24px\"viewBox=\"0 0 24 24\"\n",
              "     width=\"24px\">\n",
              "    <g>\n",
              "        <path d=\"M19 3H5c-1.1 0-2 .9-2 2v14c0 1.1.9 2 2 2h14c1.1 0 2-.9 2-2V5c0-1.1-.9-2-2-2zM9 17H7v-7h2v7zm4 0h-2V7h2v10zm4 0h-2v-4h2v4z\"/>\n",
              "    </g>\n",
              "</svg>\n",
              "  </button>\n",
              "\n",
              "<style>\n",
              "  .colab-df-quickchart {\n",
              "      --bg-color: #E8F0FE;\n",
              "      --fill-color: #1967D2;\n",
              "      --hover-bg-color: #E2EBFA;\n",
              "      --hover-fill-color: #174EA6;\n",
              "      --disabled-fill-color: #AAA;\n",
              "      --disabled-bg-color: #DDD;\n",
              "  }\n",
              "\n",
              "  [theme=dark] .colab-df-quickchart {\n",
              "      --bg-color: #3B4455;\n",
              "      --fill-color: #D2E3FC;\n",
              "      --hover-bg-color: #434B5C;\n",
              "      --hover-fill-color: #FFFFFF;\n",
              "      --disabled-bg-color: #3B4455;\n",
              "      --disabled-fill-color: #666;\n",
              "  }\n",
              "\n",
              "  .colab-df-quickchart {\n",
              "    background-color: var(--bg-color);\n",
              "    border: none;\n",
              "    border-radius: 50%;\n",
              "    cursor: pointer;\n",
              "    display: none;\n",
              "    fill: var(--fill-color);\n",
              "    height: 32px;\n",
              "    padding: 0;\n",
              "    width: 32px;\n",
              "  }\n",
              "\n",
              "  .colab-df-quickchart:hover {\n",
              "    background-color: var(--hover-bg-color);\n",
              "    box-shadow: 0 1px 2px rgba(60, 64, 67, 0.3), 0 1px 3px 1px rgba(60, 64, 67, 0.15);\n",
              "    fill: var(--button-hover-fill-color);\n",
              "  }\n",
              "\n",
              "  .colab-df-quickchart-complete:disabled,\n",
              "  .colab-df-quickchart-complete:disabled:hover {\n",
              "    background-color: var(--disabled-bg-color);\n",
              "    fill: var(--disabled-fill-color);\n",
              "    box-shadow: none;\n",
              "  }\n",
              "\n",
              "  .colab-df-spinner {\n",
              "    border: 2px solid var(--fill-color);\n",
              "    border-color: transparent;\n",
              "    border-bottom-color: var(--fill-color);\n",
              "    animation:\n",
              "      spin 1s steps(1) infinite;\n",
              "  }\n",
              "\n",
              "  @keyframes spin {\n",
              "    0% {\n",
              "      border-color: transparent;\n",
              "      border-bottom-color: var(--fill-color);\n",
              "      border-left-color: var(--fill-color);\n",
              "    }\n",
              "    20% {\n",
              "      border-color: transparent;\n",
              "      border-left-color: var(--fill-color);\n",
              "      border-top-color: var(--fill-color);\n",
              "    }\n",
              "    30% {\n",
              "      border-color: transparent;\n",
              "      border-left-color: var(--fill-color);\n",
              "      border-top-color: var(--fill-color);\n",
              "      border-right-color: var(--fill-color);\n",
              "    }\n",
              "    40% {\n",
              "      border-color: transparent;\n",
              "      border-right-color: var(--fill-color);\n",
              "      border-top-color: var(--fill-color);\n",
              "    }\n",
              "    60% {\n",
              "      border-color: transparent;\n",
              "      border-right-color: var(--fill-color);\n",
              "    }\n",
              "    80% {\n",
              "      border-color: transparent;\n",
              "      border-right-color: var(--fill-color);\n",
              "      border-bottom-color: var(--fill-color);\n",
              "    }\n",
              "    90% {\n",
              "      border-color: transparent;\n",
              "      border-bottom-color: var(--fill-color);\n",
              "    }\n",
              "  }\n",
              "</style>\n",
              "\n",
              "  <script>\n",
              "    async function quickchart(key) {\n",
              "      const quickchartButtonEl =\n",
              "        document.querySelector('#' + key + ' button');\n",
              "      quickchartButtonEl.disabled = true;  // To prevent multiple clicks.\n",
              "      quickchartButtonEl.classList.add('colab-df-spinner');\n",
              "      try {\n",
              "        const charts = await google.colab.kernel.invokeFunction(\n",
              "            'suggestCharts', [key], {});\n",
              "      } catch (error) {\n",
              "        console.error('Error during call to suggestCharts:', error);\n",
              "      }\n",
              "      quickchartButtonEl.classList.remove('colab-df-spinner');\n",
              "      quickchartButtonEl.classList.add('colab-df-quickchart-complete');\n",
              "    }\n",
              "    (() => {\n",
              "      let quickchartButtonEl =\n",
              "        document.querySelector('#df-64a6796c-1768-40b4-95c4-474c330062ed button');\n",
              "      quickchartButtonEl.style.display =\n",
              "        google.colab.kernel.accessAllowed ? 'block' : 'none';\n",
              "    })();\n",
              "  </script>\n",
              "</div>\n",
              "\n",
              "    </div>\n",
              "  </div>\n"
            ],
            "application/vnd.google.colaboratory.intrinsic+json": {
              "type": "dataframe",
              "repr_error": "0"
            }
          },
          "metadata": {},
          "execution_count": 25
        }
      ]
    },
    {
      "cell_type": "code",
      "source": [
        "player_wickets[player_wickets['Season']=='2023'].sort_values(by='wicket_confirmation',ascending=False).head(3)"
      ],
      "metadata": {
        "colab": {
          "base_uri": "https://localhost:8080/",
          "height": 143
        },
        "id": "gbuQ_lQl-YTj",
        "outputId": "06912b43-bcdf-4311-dad5-b7683b6b58ad"
      },
      "execution_count": 9,
      "outputs": [
        {
          "output_type": "execute_result",
          "data": {
            "text/plain": [
              "     Season          Bowler  wicket_confirmation\n",
              "1750   2023       MM Sharma                   31\n",
              "1755   2023  Mohammed Shami                   28\n",
              "1782   2023     Rashid Khan                   28"
            ],
            "text/html": [
              "\n",
              "  <div id=\"df-a0459dfe-7aad-4857-b089-21536a10be15\" class=\"colab-df-container\">\n",
              "    <div>\n",
              "<style scoped>\n",
              "    .dataframe tbody tr th:only-of-type {\n",
              "        vertical-align: middle;\n",
              "    }\n",
              "\n",
              "    .dataframe tbody tr th {\n",
              "        vertical-align: top;\n",
              "    }\n",
              "\n",
              "    .dataframe thead th {\n",
              "        text-align: right;\n",
              "    }\n",
              "</style>\n",
              "<table border=\"1\" class=\"dataframe\">\n",
              "  <thead>\n",
              "    <tr style=\"text-align: right;\">\n",
              "      <th></th>\n",
              "      <th>Season</th>\n",
              "      <th>Bowler</th>\n",
              "      <th>wicket_confirmation</th>\n",
              "    </tr>\n",
              "  </thead>\n",
              "  <tbody>\n",
              "    <tr>\n",
              "      <th>1750</th>\n",
              "      <td>2023</td>\n",
              "      <td>MM Sharma</td>\n",
              "      <td>31</td>\n",
              "    </tr>\n",
              "    <tr>\n",
              "      <th>1755</th>\n",
              "      <td>2023</td>\n",
              "      <td>Mohammed Shami</td>\n",
              "      <td>28</td>\n",
              "    </tr>\n",
              "    <tr>\n",
              "      <th>1782</th>\n",
              "      <td>2023</td>\n",
              "      <td>Rashid Khan</td>\n",
              "      <td>28</td>\n",
              "    </tr>\n",
              "  </tbody>\n",
              "</table>\n",
              "</div>\n",
              "    <div class=\"colab-df-buttons\">\n",
              "\n",
              "  <div class=\"colab-df-container\">\n",
              "    <button class=\"colab-df-convert\" onclick=\"convertToInteractive('df-a0459dfe-7aad-4857-b089-21536a10be15')\"\n",
              "            title=\"Convert this dataframe to an interactive table.\"\n",
              "            style=\"display:none;\">\n",
              "\n",
              "  <svg xmlns=\"http://www.w3.org/2000/svg\" height=\"24px\" viewBox=\"0 -960 960 960\">\n",
              "    <path d=\"M120-120v-720h720v720H120Zm60-500h600v-160H180v160Zm220 220h160v-160H400v160Zm0 220h160v-160H400v160ZM180-400h160v-160H180v160Zm440 0h160v-160H620v160ZM180-180h160v-160H180v160Zm440 0h160v-160H620v160Z\"/>\n",
              "  </svg>\n",
              "    </button>\n",
              "\n",
              "  <style>\n",
              "    .colab-df-container {\n",
              "      display:flex;\n",
              "      gap: 12px;\n",
              "    }\n",
              "\n",
              "    .colab-df-convert {\n",
              "      background-color: #E8F0FE;\n",
              "      border: none;\n",
              "      border-radius: 50%;\n",
              "      cursor: pointer;\n",
              "      display: none;\n",
              "      fill: #1967D2;\n",
              "      height: 32px;\n",
              "      padding: 0 0 0 0;\n",
              "      width: 32px;\n",
              "    }\n",
              "\n",
              "    .colab-df-convert:hover {\n",
              "      background-color: #E2EBFA;\n",
              "      box-shadow: 0px 1px 2px rgba(60, 64, 67, 0.3), 0px 1px 3px 1px rgba(60, 64, 67, 0.15);\n",
              "      fill: #174EA6;\n",
              "    }\n",
              "\n",
              "    .colab-df-buttons div {\n",
              "      margin-bottom: 4px;\n",
              "    }\n",
              "\n",
              "    [theme=dark] .colab-df-convert {\n",
              "      background-color: #3B4455;\n",
              "      fill: #D2E3FC;\n",
              "    }\n",
              "\n",
              "    [theme=dark] .colab-df-convert:hover {\n",
              "      background-color: #434B5C;\n",
              "      box-shadow: 0px 1px 3px 1px rgba(0, 0, 0, 0.15);\n",
              "      filter: drop-shadow(0px 1px 2px rgba(0, 0, 0, 0.3));\n",
              "      fill: #FFFFFF;\n",
              "    }\n",
              "  </style>\n",
              "\n",
              "    <script>\n",
              "      const buttonEl =\n",
              "        document.querySelector('#df-a0459dfe-7aad-4857-b089-21536a10be15 button.colab-df-convert');\n",
              "      buttonEl.style.display =\n",
              "        google.colab.kernel.accessAllowed ? 'block' : 'none';\n",
              "\n",
              "      async function convertToInteractive(key) {\n",
              "        const element = document.querySelector('#df-a0459dfe-7aad-4857-b089-21536a10be15');\n",
              "        const dataTable =\n",
              "          await google.colab.kernel.invokeFunction('convertToInteractive',\n",
              "                                                    [key], {});\n",
              "        if (!dataTable) return;\n",
              "\n",
              "        const docLinkHtml = 'Like what you see? Visit the ' +\n",
              "          '<a target=\"_blank\" href=https://colab.research.google.com/notebooks/data_table.ipynb>data table notebook</a>'\n",
              "          + ' to learn more about interactive tables.';\n",
              "        element.innerHTML = '';\n",
              "        dataTable['output_type'] = 'display_data';\n",
              "        await google.colab.output.renderOutput(dataTable, element);\n",
              "        const docLink = document.createElement('div');\n",
              "        docLink.innerHTML = docLinkHtml;\n",
              "        element.appendChild(docLink);\n",
              "      }\n",
              "    </script>\n",
              "  </div>\n",
              "\n",
              "\n",
              "<div id=\"df-245157b6-2f49-4b06-a117-99c242d7b0d0\">\n",
              "  <button class=\"colab-df-quickchart\" onclick=\"quickchart('df-245157b6-2f49-4b06-a117-99c242d7b0d0')\"\n",
              "            title=\"Suggest charts\"\n",
              "            style=\"display:none;\">\n",
              "\n",
              "<svg xmlns=\"http://www.w3.org/2000/svg\" height=\"24px\"viewBox=\"0 0 24 24\"\n",
              "     width=\"24px\">\n",
              "    <g>\n",
              "        <path d=\"M19 3H5c-1.1 0-2 .9-2 2v14c0 1.1.9 2 2 2h14c1.1 0 2-.9 2-2V5c0-1.1-.9-2-2-2zM9 17H7v-7h2v7zm4 0h-2V7h2v10zm4 0h-2v-4h2v4z\"/>\n",
              "    </g>\n",
              "</svg>\n",
              "  </button>\n",
              "\n",
              "<style>\n",
              "  .colab-df-quickchart {\n",
              "      --bg-color: #E8F0FE;\n",
              "      --fill-color: #1967D2;\n",
              "      --hover-bg-color: #E2EBFA;\n",
              "      --hover-fill-color: #174EA6;\n",
              "      --disabled-fill-color: #AAA;\n",
              "      --disabled-bg-color: #DDD;\n",
              "  }\n",
              "\n",
              "  [theme=dark] .colab-df-quickchart {\n",
              "      --bg-color: #3B4455;\n",
              "      --fill-color: #D2E3FC;\n",
              "      --hover-bg-color: #434B5C;\n",
              "      --hover-fill-color: #FFFFFF;\n",
              "      --disabled-bg-color: #3B4455;\n",
              "      --disabled-fill-color: #666;\n",
              "  }\n",
              "\n",
              "  .colab-df-quickchart {\n",
              "    background-color: var(--bg-color);\n",
              "    border: none;\n",
              "    border-radius: 50%;\n",
              "    cursor: pointer;\n",
              "    display: none;\n",
              "    fill: var(--fill-color);\n",
              "    height: 32px;\n",
              "    padding: 0;\n",
              "    width: 32px;\n",
              "  }\n",
              "\n",
              "  .colab-df-quickchart:hover {\n",
              "    background-color: var(--hover-bg-color);\n",
              "    box-shadow: 0 1px 2px rgba(60, 64, 67, 0.3), 0 1px 3px 1px rgba(60, 64, 67, 0.15);\n",
              "    fill: var(--button-hover-fill-color);\n",
              "  }\n",
              "\n",
              "  .colab-df-quickchart-complete:disabled,\n",
              "  .colab-df-quickchart-complete:disabled:hover {\n",
              "    background-color: var(--disabled-bg-color);\n",
              "    fill: var(--disabled-fill-color);\n",
              "    box-shadow: none;\n",
              "  }\n",
              "\n",
              "  .colab-df-spinner {\n",
              "    border: 2px solid var(--fill-color);\n",
              "    border-color: transparent;\n",
              "    border-bottom-color: var(--fill-color);\n",
              "    animation:\n",
              "      spin 1s steps(1) infinite;\n",
              "  }\n",
              "\n",
              "  @keyframes spin {\n",
              "    0% {\n",
              "      border-color: transparent;\n",
              "      border-bottom-color: var(--fill-color);\n",
              "      border-left-color: var(--fill-color);\n",
              "    }\n",
              "    20% {\n",
              "      border-color: transparent;\n",
              "      border-left-color: var(--fill-color);\n",
              "      border-top-color: var(--fill-color);\n",
              "    }\n",
              "    30% {\n",
              "      border-color: transparent;\n",
              "      border-left-color: var(--fill-color);\n",
              "      border-top-color: var(--fill-color);\n",
              "      border-right-color: var(--fill-color);\n",
              "    }\n",
              "    40% {\n",
              "      border-color: transparent;\n",
              "      border-right-color: var(--fill-color);\n",
              "      border-top-color: var(--fill-color);\n",
              "    }\n",
              "    60% {\n",
              "      border-color: transparent;\n",
              "      border-right-color: var(--fill-color);\n",
              "    }\n",
              "    80% {\n",
              "      border-color: transparent;\n",
              "      border-right-color: var(--fill-color);\n",
              "      border-bottom-color: var(--fill-color);\n",
              "    }\n",
              "    90% {\n",
              "      border-color: transparent;\n",
              "      border-bottom-color: var(--fill-color);\n",
              "    }\n",
              "  }\n",
              "</style>\n",
              "\n",
              "  <script>\n",
              "    async function quickchart(key) {\n",
              "      const quickchartButtonEl =\n",
              "        document.querySelector('#' + key + ' button');\n",
              "      quickchartButtonEl.disabled = true;  // To prevent multiple clicks.\n",
              "      quickchartButtonEl.classList.add('colab-df-spinner');\n",
              "      try {\n",
              "        const charts = await google.colab.kernel.invokeFunction(\n",
              "            'suggestCharts', [key], {});\n",
              "      } catch (error) {\n",
              "        console.error('Error during call to suggestCharts:', error);\n",
              "      }\n",
              "      quickchartButtonEl.classList.remove('colab-df-spinner');\n",
              "      quickchartButtonEl.classList.add('colab-df-quickchart-complete');\n",
              "    }\n",
              "    (() => {\n",
              "      let quickchartButtonEl =\n",
              "        document.querySelector('#df-245157b6-2f49-4b06-a117-99c242d7b0d0 button');\n",
              "      quickchartButtonEl.style.display =\n",
              "        google.colab.kernel.accessAllowed ? 'block' : 'none';\n",
              "    })();\n",
              "  </script>\n",
              "</div>\n",
              "\n",
              "    </div>\n",
              "  </div>\n"
            ],
            "application/vnd.google.colaboratory.intrinsic+json": {
              "type": "dataframe",
              "repr_error": "0"
            }
          },
          "metadata": {},
          "execution_count": 9
        }
      ]
    },
    {
      "cell_type": "markdown",
      "source": [
        "# 2) INDICATING TOP 3 RUN-GETTERS AND WICKET-TAKERS IN EACH IPL ROUND."
      ],
      "metadata": {
        "id": "wY6UF__cH8aR"
      }
    },
    {
      "cell_type": "code",
      "source": [
        "top_run_getters = player_runs.groupby('Season').apply(lambda x: x.nlargest(3, 'runs_scored')).reset_index(drop=True)\n",
        "bottom_wicket_takers = player_wickets.groupby('Season').apply(lambda x: x.nlargest(3, 'wicket_confirmation')).reset_index(drop=True)\n",
        "print(\"TOP THREE RUN GETTERS FOR EACH SEASON:\\n\")\n",
        "print(top_run_getters)\n",
        "print(\"\\nTOP THREE WICKET TAKERS FOR EACH SEASON:\\n\")\n",
        "print(bottom_wicket_takers)"
      ],
      "metadata": {
        "colab": {
          "base_uri": "https://localhost:8080/"
        },
        "collapsed": true,
        "id": "VII2rjIR-YR6",
        "outputId": "6da1993d-01ee-425a-c19b-f97dc6ef6e78"
      },
      "execution_count": 10,
      "outputs": [
        {
          "output_type": "stream",
          "name": "stdout",
          "text": [
            "TOP THREE RUN GETTERS FOR EACH SEASON:\n",
            "\n",
            "     Season          Striker  runs_scored\n",
            "0   2007/08         SE Marsh          616\n",
            "1   2007/08        G Gambhir          534\n",
            "2   2007/08    ST Jayasuriya          514\n",
            "3      2009        ML Hayden          572\n",
            "4      2009     AC Gilchrist          495\n",
            "5      2009   AB de Villiers          465\n",
            "6   2009/10     SR Tendulkar          618\n",
            "7   2009/10        JH Kallis          572\n",
            "8   2009/10         SK Raina          528\n",
            "9      2011         CH Gayle          608\n",
            "10     2011          V Kohli          557\n",
            "11     2011     SR Tendulkar          553\n",
            "12     2012         CH Gayle          733\n",
            "13     2012        G Gambhir          590\n",
            "14     2012         S Dhawan          569\n",
            "15     2013       MEK Hussey          733\n",
            "16     2013         CH Gayle          720\n",
            "17     2013          V Kohli          639\n",
            "18     2014       RV Uthappa          660\n",
            "19     2014         DR Smith          566\n",
            "20     2014       GJ Maxwell          552\n",
            "21     2015        DA Warner          562\n",
            "22     2015        AM Rahane          540\n",
            "23     2015      LMP Simmons          540\n",
            "24     2016          V Kohli          973\n",
            "25     2016        DA Warner          848\n",
            "26     2016   AB de Villiers          687\n",
            "27     2017        DA Warner          641\n",
            "28     2017        G Gambhir          498\n",
            "29     2017         S Dhawan          479\n",
            "30     2018    KS Williamson          735\n",
            "31     2018          RR Pant          684\n",
            "32     2018         KL Rahul          659\n",
            "33     2019        DA Warner          692\n",
            "34     2019         KL Rahul          593\n",
            "35     2019        Q de Kock          529\n",
            "36  2020/21         KL Rahul          676\n",
            "37  2020/21         S Dhawan          618\n",
            "38  2020/21        DA Warner          548\n",
            "39     2021       RD Gaikwad          635\n",
            "40     2021     F du Plessis          633\n",
            "41     2021         KL Rahul          626\n",
            "42     2022       JC Buttler          863\n",
            "43     2022         KL Rahul          616\n",
            "44     2022        Q de Kock          508\n",
            "45     2023     Shubman Gill          890\n",
            "46     2023     F du Plessis          730\n",
            "47     2023        DP Conway          672\n",
            "48     2024       RD Gaikwad          509\n",
            "49     2024          V Kohli          500\n",
            "50     2024  B Sai Sudharsan          418\n",
            "\n",
            "TOP THREE WICKET TAKERS FOR EACH SEASON:\n",
            "\n",
            "     Season           Bowler  wicket_confirmation\n",
            "0   2007/08    Sohail Tanvir                   24\n",
            "1   2007/08        IK Pathan                   20\n",
            "2   2007/08        JA Morkel                   20\n",
            "3      2009         RP Singh                   26\n",
            "4      2009         A Kumble                   22\n",
            "5      2009          A Nehra                   22\n",
            "6   2009/10          PP Ojha                   22\n",
            "7   2009/10         A Mishra                   20\n",
            "8   2009/10  Harbhajan Singh                   20\n",
            "9      2011       SL Malinga                   30\n",
            "10     2011         MM Patel                   22\n",
            "11     2011        S Aravind                   22\n",
            "12     2012         M Morkel                   30\n",
            "13     2012        SP Narine                   29\n",
            "14     2012       SL Malinga                   25\n",
            "15     2013         DJ Bravo                   34\n",
            "16     2013      JP Faulkner                   33\n",
            "17     2013    R Vinay Kumar                   27\n",
            "18     2014        MM Sharma                   26\n",
            "19     2014        SP Narine                   22\n",
            "20     2014          B Kumar                   21\n",
            "21     2015         DJ Bravo                   28\n",
            "22     2015       SL Malinga                   26\n",
            "23     2015          A Nehra                   25\n",
            "24     2016          B Kumar                   24\n",
            "25     2016        SR Watson                   23\n",
            "26     2016        YS Chahal                   22\n",
            "27     2017          B Kumar                   28\n",
            "28     2017       JD Unadkat                   27\n",
            "29     2017        JJ Bumrah                   23\n",
            "30     2018           AJ Tye                   28\n",
            "31     2018           S Kaul                   24\n",
            "32     2018      Rashid Khan                   23\n",
            "33     2019         K Rabada                   29\n",
            "34     2019      Imran Tahir                   26\n",
            "35     2019        JJ Bumrah                   23\n",
            "36  2020/21         K Rabada                   32\n",
            "37  2020/21        JJ Bumrah                   30\n",
            "38  2020/21         TA Boult                   26\n",
            "39     2021         HV Patel                   35\n",
            "40     2021       Avesh Khan                   27\n",
            "41     2021        JJ Bumrah                   22\n",
            "42     2022        YS Chahal                   29\n",
            "43     2022     PWH de Silva                   27\n",
            "44     2022         K Rabada                   23\n",
            "45     2023        MM Sharma                   31\n",
            "46     2023   Mohammed Shami                   28\n",
            "47     2023      Rashid Khan                   28\n",
            "48     2024         HV Patel                   19\n",
            "49     2024     Mukesh Kumar                   15\n",
            "50     2024   Arshdeep Singh                   14\n"
          ]
        }
      ]
    },
    {
      "cell_type": "code",
      "source": [
        "ipl_year_id = pd.DataFrame(columns=[\"id\", \"year\"])\n",
        "ipl_year_id[\"id\"] = ipl_ball[\"Match id\"]\n",
        "ipl_year_id[\"year\"] = pd.to_datetime(ipl_ball[\"Date\"], dayfirst=True).dt.year\n",
        "\n",
        "#create a copy of ipl_bbbc dataframe\n",
        "ipl_bbbc= ipl_ball.copy()\n",
        "ipl_bbbc['year'] = pd.to_datetime(ipl_ball[\"Date\"], dayfirst=True).dt.year\n",
        "\n",
        "ipl_bbbc[[\"Match id\", \"year\", \"runs_scored\",\"wicket_confirmation\",\"Bowler\",'Striker']].head()"
      ],
      "metadata": {
        "colab": {
          "base_uri": "https://localhost:8080/",
          "height": 206
        },
        "id": "ijKbg7Bh-YM_",
        "outputId": "c0c03ac9-47fd-45cf-f529-ae097787c64c"
      },
      "execution_count": 11,
      "outputs": [
        {
          "output_type": "execute_result",
          "data": {
            "text/plain": [
              "   Match id  year  runs_scored  wicket_confirmation   Bowler      Striker\n",
              "0    335982  2008            0                    0  P Kumar   SC Ganguly\n",
              "1    335982  2008            0                    0  P Kumar  BB McCullum\n",
              "2    335982  2008            0                    0  P Kumar  BB McCullum\n",
              "3    335982  2008            0                    0  P Kumar  BB McCullum\n",
              "4    335982  2008            0                    0  P Kumar  BB McCullum"
            ],
            "text/html": [
              "\n",
              "  <div id=\"df-95e4bf7c-0796-4d1d-8bec-b4efceefb585\" class=\"colab-df-container\">\n",
              "    <div>\n",
              "<style scoped>\n",
              "    .dataframe tbody tr th:only-of-type {\n",
              "        vertical-align: middle;\n",
              "    }\n",
              "\n",
              "    .dataframe tbody tr th {\n",
              "        vertical-align: top;\n",
              "    }\n",
              "\n",
              "    .dataframe thead th {\n",
              "        text-align: right;\n",
              "    }\n",
              "</style>\n",
              "<table border=\"1\" class=\"dataframe\">\n",
              "  <thead>\n",
              "    <tr style=\"text-align: right;\">\n",
              "      <th></th>\n",
              "      <th>Match id</th>\n",
              "      <th>year</th>\n",
              "      <th>runs_scored</th>\n",
              "      <th>wicket_confirmation</th>\n",
              "      <th>Bowler</th>\n",
              "      <th>Striker</th>\n",
              "    </tr>\n",
              "  </thead>\n",
              "  <tbody>\n",
              "    <tr>\n",
              "      <th>0</th>\n",
              "      <td>335982</td>\n",
              "      <td>2008</td>\n",
              "      <td>0</td>\n",
              "      <td>0</td>\n",
              "      <td>P Kumar</td>\n",
              "      <td>SC Ganguly</td>\n",
              "    </tr>\n",
              "    <tr>\n",
              "      <th>1</th>\n",
              "      <td>335982</td>\n",
              "      <td>2008</td>\n",
              "      <td>0</td>\n",
              "      <td>0</td>\n",
              "      <td>P Kumar</td>\n",
              "      <td>BB McCullum</td>\n",
              "    </tr>\n",
              "    <tr>\n",
              "      <th>2</th>\n",
              "      <td>335982</td>\n",
              "      <td>2008</td>\n",
              "      <td>0</td>\n",
              "      <td>0</td>\n",
              "      <td>P Kumar</td>\n",
              "      <td>BB McCullum</td>\n",
              "    </tr>\n",
              "    <tr>\n",
              "      <th>3</th>\n",
              "      <td>335982</td>\n",
              "      <td>2008</td>\n",
              "      <td>0</td>\n",
              "      <td>0</td>\n",
              "      <td>P Kumar</td>\n",
              "      <td>BB McCullum</td>\n",
              "    </tr>\n",
              "    <tr>\n",
              "      <th>4</th>\n",
              "      <td>335982</td>\n",
              "      <td>2008</td>\n",
              "      <td>0</td>\n",
              "      <td>0</td>\n",
              "      <td>P Kumar</td>\n",
              "      <td>BB McCullum</td>\n",
              "    </tr>\n",
              "  </tbody>\n",
              "</table>\n",
              "</div>\n",
              "    <div class=\"colab-df-buttons\">\n",
              "\n",
              "  <div class=\"colab-df-container\">\n",
              "    <button class=\"colab-df-convert\" onclick=\"convertToInteractive('df-95e4bf7c-0796-4d1d-8bec-b4efceefb585')\"\n",
              "            title=\"Convert this dataframe to an interactive table.\"\n",
              "            style=\"display:none;\">\n",
              "\n",
              "  <svg xmlns=\"http://www.w3.org/2000/svg\" height=\"24px\" viewBox=\"0 -960 960 960\">\n",
              "    <path d=\"M120-120v-720h720v720H120Zm60-500h600v-160H180v160Zm220 220h160v-160H400v160Zm0 220h160v-160H400v160ZM180-400h160v-160H180v160Zm440 0h160v-160H620v160ZM180-180h160v-160H180v160Zm440 0h160v-160H620v160Z\"/>\n",
              "  </svg>\n",
              "    </button>\n",
              "\n",
              "  <style>\n",
              "    .colab-df-container {\n",
              "      display:flex;\n",
              "      gap: 12px;\n",
              "    }\n",
              "\n",
              "    .colab-df-convert {\n",
              "      background-color: #E8F0FE;\n",
              "      border: none;\n",
              "      border-radius: 50%;\n",
              "      cursor: pointer;\n",
              "      display: none;\n",
              "      fill: #1967D2;\n",
              "      height: 32px;\n",
              "      padding: 0 0 0 0;\n",
              "      width: 32px;\n",
              "    }\n",
              "\n",
              "    .colab-df-convert:hover {\n",
              "      background-color: #E2EBFA;\n",
              "      box-shadow: 0px 1px 2px rgba(60, 64, 67, 0.3), 0px 1px 3px 1px rgba(60, 64, 67, 0.15);\n",
              "      fill: #174EA6;\n",
              "    }\n",
              "\n",
              "    .colab-df-buttons div {\n",
              "      margin-bottom: 4px;\n",
              "    }\n",
              "\n",
              "    [theme=dark] .colab-df-convert {\n",
              "      background-color: #3B4455;\n",
              "      fill: #D2E3FC;\n",
              "    }\n",
              "\n",
              "    [theme=dark] .colab-df-convert:hover {\n",
              "      background-color: #434B5C;\n",
              "      box-shadow: 0px 1px 3px 1px rgba(0, 0, 0, 0.15);\n",
              "      filter: drop-shadow(0px 1px 2px rgba(0, 0, 0, 0.3));\n",
              "      fill: #FFFFFF;\n",
              "    }\n",
              "  </style>\n",
              "\n",
              "    <script>\n",
              "      const buttonEl =\n",
              "        document.querySelector('#df-95e4bf7c-0796-4d1d-8bec-b4efceefb585 button.colab-df-convert');\n",
              "      buttonEl.style.display =\n",
              "        google.colab.kernel.accessAllowed ? 'block' : 'none';\n",
              "\n",
              "      async function convertToInteractive(key) {\n",
              "        const element = document.querySelector('#df-95e4bf7c-0796-4d1d-8bec-b4efceefb585');\n",
              "        const dataTable =\n",
              "          await google.colab.kernel.invokeFunction('convertToInteractive',\n",
              "                                                    [key], {});\n",
              "        if (!dataTable) return;\n",
              "\n",
              "        const docLinkHtml = 'Like what you see? Visit the ' +\n",
              "          '<a target=\"_blank\" href=https://colab.research.google.com/notebooks/data_table.ipynb>data table notebook</a>'\n",
              "          + ' to learn more about interactive tables.';\n",
              "        element.innerHTML = '';\n",
              "        dataTable['output_type'] = 'display_data';\n",
              "        await google.colab.output.renderOutput(dataTable, element);\n",
              "        const docLink = document.createElement('div');\n",
              "        docLink.innerHTML = docLinkHtml;\n",
              "        element.appendChild(docLink);\n",
              "      }\n",
              "    </script>\n",
              "  </div>\n",
              "\n",
              "\n",
              "<div id=\"df-3706e465-7a57-4d52-9401-302bfae10bab\">\n",
              "  <button class=\"colab-df-quickchart\" onclick=\"quickchart('df-3706e465-7a57-4d52-9401-302bfae10bab')\"\n",
              "            title=\"Suggest charts\"\n",
              "            style=\"display:none;\">\n",
              "\n",
              "<svg xmlns=\"http://www.w3.org/2000/svg\" height=\"24px\"viewBox=\"0 0 24 24\"\n",
              "     width=\"24px\">\n",
              "    <g>\n",
              "        <path d=\"M19 3H5c-1.1 0-2 .9-2 2v14c0 1.1.9 2 2 2h14c1.1 0 2-.9 2-2V5c0-1.1-.9-2-2-2zM9 17H7v-7h2v7zm4 0h-2V7h2v10zm4 0h-2v-4h2v4z\"/>\n",
              "    </g>\n",
              "</svg>\n",
              "  </button>\n",
              "\n",
              "<style>\n",
              "  .colab-df-quickchart {\n",
              "      --bg-color: #E8F0FE;\n",
              "      --fill-color: #1967D2;\n",
              "      --hover-bg-color: #E2EBFA;\n",
              "      --hover-fill-color: #174EA6;\n",
              "      --disabled-fill-color: #AAA;\n",
              "      --disabled-bg-color: #DDD;\n",
              "  }\n",
              "\n",
              "  [theme=dark] .colab-df-quickchart {\n",
              "      --bg-color: #3B4455;\n",
              "      --fill-color: #D2E3FC;\n",
              "      --hover-bg-color: #434B5C;\n",
              "      --hover-fill-color: #FFFFFF;\n",
              "      --disabled-bg-color: #3B4455;\n",
              "      --disabled-fill-color: #666;\n",
              "  }\n",
              "\n",
              "  .colab-df-quickchart {\n",
              "    background-color: var(--bg-color);\n",
              "    border: none;\n",
              "    border-radius: 50%;\n",
              "    cursor: pointer;\n",
              "    display: none;\n",
              "    fill: var(--fill-color);\n",
              "    height: 32px;\n",
              "    padding: 0;\n",
              "    width: 32px;\n",
              "  }\n",
              "\n",
              "  .colab-df-quickchart:hover {\n",
              "    background-color: var(--hover-bg-color);\n",
              "    box-shadow: 0 1px 2px rgba(60, 64, 67, 0.3), 0 1px 3px 1px rgba(60, 64, 67, 0.15);\n",
              "    fill: var(--button-hover-fill-color);\n",
              "  }\n",
              "\n",
              "  .colab-df-quickchart-complete:disabled,\n",
              "  .colab-df-quickchart-complete:disabled:hover {\n",
              "    background-color: var(--disabled-bg-color);\n",
              "    fill: var(--disabled-fill-color);\n",
              "    box-shadow: none;\n",
              "  }\n",
              "\n",
              "  .colab-df-spinner {\n",
              "    border: 2px solid var(--fill-color);\n",
              "    border-color: transparent;\n",
              "    border-bottom-color: var(--fill-color);\n",
              "    animation:\n",
              "      spin 1s steps(1) infinite;\n",
              "  }\n",
              "\n",
              "  @keyframes spin {\n",
              "    0% {\n",
              "      border-color: transparent;\n",
              "      border-bottom-color: var(--fill-color);\n",
              "      border-left-color: var(--fill-color);\n",
              "    }\n",
              "    20% {\n",
              "      border-color: transparent;\n",
              "      border-left-color: var(--fill-color);\n",
              "      border-top-color: var(--fill-color);\n",
              "    }\n",
              "    30% {\n",
              "      border-color: transparent;\n",
              "      border-left-color: var(--fill-color);\n",
              "      border-top-color: var(--fill-color);\n",
              "      border-right-color: var(--fill-color);\n",
              "    }\n",
              "    40% {\n",
              "      border-color: transparent;\n",
              "      border-right-color: var(--fill-color);\n",
              "      border-top-color: var(--fill-color);\n",
              "    }\n",
              "    60% {\n",
              "      border-color: transparent;\n",
              "      border-right-color: var(--fill-color);\n",
              "    }\n",
              "    80% {\n",
              "      border-color: transparent;\n",
              "      border-right-color: var(--fill-color);\n",
              "      border-bottom-color: var(--fill-color);\n",
              "    }\n",
              "    90% {\n",
              "      border-color: transparent;\n",
              "      border-bottom-color: var(--fill-color);\n",
              "    }\n",
              "  }\n",
              "</style>\n",
              "\n",
              "  <script>\n",
              "    async function quickchart(key) {\n",
              "      const quickchartButtonEl =\n",
              "        document.querySelector('#' + key + ' button');\n",
              "      quickchartButtonEl.disabled = true;  // To prevent multiple clicks.\n",
              "      quickchartButtonEl.classList.add('colab-df-spinner');\n",
              "      try {\n",
              "        const charts = await google.colab.kernel.invokeFunction(\n",
              "            'suggestCharts', [key], {});\n",
              "      } catch (error) {\n",
              "        console.error('Error during call to suggestCharts:', error);\n",
              "      }\n",
              "      quickchartButtonEl.classList.remove('colab-df-spinner');\n",
              "      quickchartButtonEl.classList.add('colab-df-quickchart-complete');\n",
              "    }\n",
              "    (() => {\n",
              "      let quickchartButtonEl =\n",
              "        document.querySelector('#df-3706e465-7a57-4d52-9401-302bfae10bab button');\n",
              "      quickchartButtonEl.style.display =\n",
              "        google.colab.kernel.accessAllowed ? 'block' : 'none';\n",
              "    })();\n",
              "  </script>\n",
              "</div>\n",
              "\n",
              "    </div>\n",
              "  </div>\n"
            ],
            "application/vnd.google.colaboratory.intrinsic+json": {
              "type": "dataframe",
              "summary": "{\n  \"name\": \"ipl_bbbc[[\\\"Match id\\\", \\\"year\\\", \\\"runs_scored\\\",\\\"wicket_confirmation\\\",\\\"Bowler\\\",'Striker']]\",\n  \"rows\": 5,\n  \"fields\": [\n    {\n      \"column\": \"Match id\",\n      \"properties\": {\n        \"dtype\": \"number\",\n        \"std\": 0,\n        \"min\": 335982,\n        \"max\": 335982,\n        \"num_unique_values\": 1,\n        \"samples\": [\n          335982\n        ],\n        \"semantic_type\": \"\",\n        \"description\": \"\"\n      }\n    },\n    {\n      \"column\": \"year\",\n      \"properties\": {\n        \"dtype\": \"int32\",\n        \"num_unique_values\": 1,\n        \"samples\": [\n          2008\n        ],\n        \"semantic_type\": \"\",\n        \"description\": \"\"\n      }\n    },\n    {\n      \"column\": \"runs_scored\",\n      \"properties\": {\n        \"dtype\": \"number\",\n        \"std\": 0,\n        \"min\": 0,\n        \"max\": 0,\n        \"num_unique_values\": 1,\n        \"samples\": [\n          0\n        ],\n        \"semantic_type\": \"\",\n        \"description\": \"\"\n      }\n    },\n    {\n      \"column\": \"wicket_confirmation\",\n      \"properties\": {\n        \"dtype\": \"number\",\n        \"std\": 0,\n        \"min\": 0,\n        \"max\": 0,\n        \"num_unique_values\": 1,\n        \"samples\": [\n          0\n        ],\n        \"semantic_type\": \"\",\n        \"description\": \"\"\n      }\n    },\n    {\n      \"column\": \"Bowler\",\n      \"properties\": {\n        \"dtype\": \"category\",\n        \"num_unique_values\": 1,\n        \"samples\": [\n          \"P Kumar\"\n        ],\n        \"semantic_type\": \"\",\n        \"description\": \"\"\n      }\n    },\n    {\n      \"column\": \"Striker\",\n      \"properties\": {\n        \"dtype\": \"category\",\n        \"num_unique_values\": 2,\n        \"samples\": [\n          \"BB McCullum\"\n        ],\n        \"semantic_type\": \"\",\n        \"description\": \"\"\n      }\n    }\n  ]\n}"
            }
          },
          "metadata": {},
          "execution_count": 11
        }
      ]
    },
    {
      "cell_type": "code",
      "source": [
        "total_run_each_year = ipl_bbbc.groupby([\"year\", \"Striker\"])[\"runs_scored\"].sum().reset_index()\n",
        "\n",
        "total_run_each_year.sort_values([\"year\", \"runs_scored\"], ascending=False, inplace=True)\n",
        "print(total_run_each_year)"
      ],
      "metadata": {
        "colab": {
          "base_uri": "https://localhost:8080/"
        },
        "id": "PHSA9vvvIRSx",
        "outputId": "df63653e-d4f9-48bc-e302-76f550687487"
      },
      "execution_count": 12,
      "outputs": [
        {
          "output_type": "stream",
          "name": "stdout",
          "text": [
            "      year          Striker  runs_scored\n",
            "2549  2024       RD Gaikwad          509\n",
            "2589  2024          V Kohli          500\n",
            "2470  2024  B Sai Sudharsan          418\n",
            "2502  2024         KL Rahul          406\n",
            "2555  2024          RR Pant          398\n",
            "...    ...              ...          ...\n",
            "58    2008         L Balaji            0\n",
            "66    2008   M Muralitharan            0\n",
            "75    2008         MM Patel            0\n",
            "107   2008      S Sreesanth            0\n",
            "136   2008           U Kaul            0\n",
            "\n",
            "[2598 rows x 3 columns]\n"
          ]
        }
      ]
    },
    {
      "cell_type": "code",
      "source": [
        "list_top_batsman_last_three_year = {}\n",
        "for i in total_run_each_year[\"year\"].unique()[:3]:\n",
        "    list_top_batsman_last_three_year[i] = total_run_each_year[total_run_each_year.year == i][:3][\"Striker\"].unique().tolist()\n",
        "print(\"LIST OF TOP BATSMAN IN LAST THREE YEARS:\\n\")\n",
        "list_top_batsman_last_three_year"
      ],
      "metadata": {
        "colab": {
          "base_uri": "https://localhost:8080/"
        },
        "id": "vIi4IA0SIYBZ",
        "outputId": "9715f19d-cfd8-4ddf-f7a1-c89ff4a3528d"
      },
      "execution_count": 13,
      "outputs": [
        {
          "output_type": "stream",
          "name": "stdout",
          "text": [
            "LIST OF TOP BATSMAN IN LAST THREE YEARS:\n",
            "\n"
          ]
        },
        {
          "output_type": "execute_result",
          "data": {
            "text/plain": [
              "{2024: ['RD Gaikwad', 'V Kohli', 'B Sai Sudharsan'],\n",
              " 2023: ['Shubman Gill', 'F du Plessis', 'DP Conway'],\n",
              " 2022: ['JC Buttler', 'KL Rahul', 'Q de Kock']}"
            ]
          },
          "metadata": {},
          "execution_count": 13
        }
      ]
    },
    {
      "cell_type": "code",
      "source": [
        "total_wicket_each_year = ipl_bbbc.groupby([\"year\", \"Bowler\"])[\"wicket_confirmation\"].sum().reset_index()\n",
        "total_wicket_each_year.sort_values([\"year\", \"wicket_confirmation\"], ascending=False, inplace=True)\n",
        "print(total_wicket_each_year)"
      ],
      "metadata": {
        "colab": {
          "base_uri": "https://localhost:8080/"
        },
        "id": "hBm0NMJRJ8Pj",
        "outputId": "149db84c-bdaf-43ed-fb2b-ec6077a4d8c6"
      },
      "execution_count": 14,
      "outputs": [
        {
          "output_type": "stream",
          "name": "stdout",
          "text": [
            "      year             Bowler  wicket_confirmation\n",
            "1836  2024           HV Patel                   19\n",
            "1875  2024       Mukesh Kumar                   15\n",
            "1822  2024     Arshdeep Singh                   14\n",
            "1842  2024          JJ Bumrah                   14\n",
            "1876  2024  Mustafizur Rahman                   14\n",
            "...    ...                ...                  ...\n",
            "16    2008           CL White                    0\n",
            "41    2008             K Goel                    0\n",
            "43    2008          LPC Silva                    0\n",
            "60    2008       Pankaj Singh                    0\n",
            "90    2008        VS Yeligati                    0\n",
            "\n",
            "[1929 rows x 3 columns]\n"
          ]
        }
      ]
    },
    {
      "cell_type": "code",
      "source": [
        "list_top_bowler_last_three_year = {}\n",
        "for i in total_wicket_each_year[\"year\"].unique()[:3]:\n",
        "    list_top_bowler_last_three_year[i] = total_wicket_each_year[total_wicket_each_year.year == i][:3][\"Bowler\"].unique().tolist()\n",
        "list_top_bowler_last_three_year"
      ],
      "metadata": {
        "colab": {
          "base_uri": "https://localhost:8080/"
        },
        "id": "rgnDIvhyJ94i",
        "outputId": "49ad4081-c193-4384-e659-507c50d85357"
      },
      "execution_count": 15,
      "outputs": [
        {
          "output_type": "execute_result",
          "data": {
            "text/plain": [
              "{2024: ['HV Patel', 'Mukesh Kumar', 'Arshdeep Singh'],\n",
              " 2023: ['MM Sharma', 'Mohammed Shami', 'Rashid Khan'],\n",
              " 2022: ['YS Chahal', 'PWH de Silva', 'K Rabada']}"
            ]
          },
          "metadata": {},
          "execution_count": 15
        }
      ]
    },
    {
      "cell_type": "markdown",
      "source": [
        "# 3) Fitting the most appropriate distribution for runs scored and wickets taken by the top three batsmen and bowlers in the lost three IPL tournaments."
      ],
      "metadata": {
        "id": "pMsdhyijIZzk"
      }
    },
    {
      "cell_type": "code",
      "source": [
        "runs_data = top_run_getters['runs_scored']\n",
        "wickets_data = bottom_wicket_takers['wicket_confirmation']\n",
        "\n",
        "# Fit distributions for runs scored and wickets taken\n",
        "def fit_distribution(data, dist_names):\n",
        "    results = {}\n",
        "    for dist_name in dist_names:\n",
        "        dist = getattr(stats, dist_name)\n",
        "        params = dist.fit(data)\n",
        "        kstest = stats.kstest(data, dist_name, args=params)\n",
        "        results[dist_name] = kstest.statistic\n",
        "    best_fit = min(results, key=results.get)\n",
        "    return best_fit, results\n",
        "\n",
        "dist_names = ['alpha','beta','betaprime','burr12','crystalball',\n",
        "                  'dgamma','dweibull','erlang','exponnorm','f','fatiguelife',\n",
        "                  'gamma','gengamma','gumbel_l','johnsonsb','kappa4',\n",
        "                  'lognorm','nct','norm','norminvgauss','powernorm','rice',\n",
        "                  'recipinvgauss','t','trapz','truncnorm']\n",
        "\n",
        "# Fit distributions for top runs\n",
        "best_run_dist, run_results = fit_distribution(runs_data, dist_names)\n",
        "\n",
        "# Fit distributions for top wickets\n",
        "best_wicket_dist, wicket_results = fit_distribution(wickets_data, dist_names)\n",
        "\n",
        "print(f\"Best distribution for runs scored: {best_run_dist}\")\n",
        "print(f\"Best distribution for wickets taken: {best_wicket_dist}\")\n",
        "\n",
        "# Plot the fitted distributions\n",
        "def plot_distribution(data, dist_name, title):\n",
        "    dist = getattr(stats, dist_name)\n",
        "    params = dist.fit(data)\n",
        "    sns.histplot(data, kde=False, stat='density', bins=10, color='skyblue')\n",
        "    xmin, xmax = plt.xlim()\n",
        "    x = np.linspace(xmin, xmax, 100)\n",
        "    p = dist.pdf(x, *params)\n",
        "    plt.plot(x, p, 'k', linewidth=2)\n",
        "    plt.title(title)\n",
        "    plt.show()\n",
        "\n",
        "plot_distribution(runs_data, best_run_dist, \"Runs Scored by Top Batsmen\")\n",
        "plot_distribution(wickets_data, best_wicket_dist, \"Wickets Taken by Top Bowlers\")"
      ],
      "metadata": {
        "colab": {
          "base_uri": "https://localhost:8080/",
          "height": 963
        },
        "id": "jp-YSUX_J9y9",
        "outputId": "b5ca9a3a-338c-4822-a6a0-94ac728878c4"
      },
      "execution_count": 16,
      "outputs": [
        {
          "output_type": "stream",
          "name": "stdout",
          "text": [
            "Best distribution for runs scored: norminvgauss\n",
            "Best distribution for wickets taken: alpha\n"
          ]
        },
        {
          "output_type": "display_data",
          "data": {
            "text/plain": [
              "<Figure size 640x480 with 1 Axes>"
            ],
            "image/png": "[encoded data removed]"
          },
          "metadata": {}
        },
        {
          "output_type": "display_data",
          "data": {
            "text/plain": [
              "<Figure size 640x480 with 1 Axes>"
            ],
            "image/png": "[encoded data removed]"
          },
          "metadata": {}
        }
      ]
    },
    {
      "cell_type": "markdown",
      "source": [
        "# 4) FITTING DISTRIBUTION FOR A PARTICULAR PLAYER - 'MOHAMMED SIRAJ'"
      ],
      "metadata": {
        "id": "VZ8mZhvgInXF"
      }
    },
    {
      "cell_type": "code",
      "source": [
        "\n",
        "# Convert 'Date' to datetime and filter for the last three seasons\n",
        "ipl_ball['Match Date'] = pd.to_datetime(ipl_ball['Date'])\n",
        "recent_seasons = ipl_ball['Season'].unique()[-3:]  # Assuming seasons are sorted chronologically\n",
        "ipl_ball_recent = ipl_ball[ipl_ball['Season'].isin(recent_seasons)]\n",
        "\n",
        "# Filter data for Mohammed Siraj\n",
        "siraj_runs = ipl_ball_recent[ipl_ball_recent['Striker'] == 'Mohammed Siraj']['runs_scored']\n",
        "\n",
        "siraj_wickets = ipl_ball_recent[(ipl_ball_recent['fielders_involved'] == 'Mohammed Siraj') & (ipl_ball_recent['wicket_confirmation'] == 'Yes')]\n",
        "\n",
        "if siraj_runs.empty:\n",
        "    print(\"No runs data available for Mohammed Siraj in the last three seasons.\")\n",
        "else:\n",
        "    # Function to fit distributions\n",
        "    def fit_distribution(data, dist_names):\n",
        "        results = {}\n",
        "        for dist_name in dist_names:\n",
        "            dist = getattr(stats, dist_name)\n",
        "            params = dist.fit(data)\n",
        "            kstest = stats.kstest(data, dist_name, args=params)\n",
        "            results[dist_name] = kstest.statistic\n",
        "        best_fit = min(results, key=results.get)\n",
        "        return best_fit, results\n",
        "\n",
        "    dist_names = ['alpha','beta','betaprime','burr12',\n",
        "                  'dgamma','dweibull','erlang','exponnorm','f','fatiguelife',\n",
        "                  'gamma','gengamma','gumbel_l','johnsonsb','kappa4',\n",
        "                  'lognorm','nct','norm','norminvgauss','powernorm','rice',\n",
        "                  'recipinvgauss','t','trapz','truncnorm']\n",
        "\n",
        "    # Fit distributions for runs scored\n",
        "    best_run_dist, run_results = fit_distribution(siraj_runs, dist_names)\n",
        "\n",
        "    print(f\"Best distribution for runs scored: {best_run_dist}\")\n",
        "\n",
        "    # Plot the fitted distribution for runs\n",
        "    def plot_distribution(data, dist_name, title):\n",
        "        dist = getattr(stats, dist_name)\n",
        "        params = dist.fit(data)\n",
        "        sns.histplot(data, kde=False, stat='density', bins=10, color='skyblue')\n",
        "        xmin, xmax = plt.xlim()\n",
        "        x = np.linspace(xmin, xmax, 100)\n",
        "        p = dist.pdf(x, *params)\n",
        "        plt.plot(x, p, 'k', linewidth=2)\n",
        "        plt.title(title)\n",
        "        plt.show()\n",
        "\n",
        "    plot_distribution(siraj_runs, best_run_dist, \"Runs Scored by Mohammed Siraj\")\n",
        "\n",
        "if siraj_wickets.empty:\n",
        "    print(\"No wickets data available for Mohammed Siraj in the last three seasons.\")\n",
        "else:\n",
        "    # Fit distributions for wickets taken\n",
        "    best_wicket_dist, wicket_results = fit_distribution(siraj_wickets, dist_names)\n",
        "    print(f\"Best distribution for wickets taken: {best_wicket_dist}\")\n",
        "\n",
        "    # Plot the fitted distribution for wickets\n",
        "    plot_distribution(siraj_wickets, best_wicket_dist, \"Wickets Taken by Mohammed Siraj\")\n",
        "\n"
      ],
      "metadata": {
        "colab": {
          "base_uri": "https://localhost:8080/",
          "height": 508
        },
        "id": "To8TYduhCFDG",
        "outputId": "50436a5a-57dd-4fa8-9ba1-741a815d03b6"
      },
      "execution_count": 17,
      "outputs": [
        {
          "output_type": "stream",
          "name": "stdout",
          "text": [
            "Best distribution for runs scored: norm\n"
          ]
        },
        {
          "output_type": "display_data",
          "data": {
            "text/plain": [
              "<Figure size 640x480 with 1 Axes>"
            ],
            "image/png": "[encoded data removed]"
          },
          "metadata": {}
        },
        {
          "output_type": "stream",
          "name": "stdout",
          "text": [
            "No wickets data available for Mohammed Siraj in the last three seasons.\n"
          ]
        }
      ]
    },
    {
      "cell_type": "code",
      "source": [
        "siraj_wickets = ipl_ball_recent[(ipl_ball_recent['fielders_involved'] == 'Mohammed Siraj') & (ipl_ball_recent['wicket_confirmation'] == '1')]\n",
        "siraj_wickets = siraj_wickets.groupby('Match id').size()\n",
        "\n",
        "# Check if siraj_wickets is empty\n",
        "if siraj_wickets.empty:\n",
        "    print(\"No wickets data available for Mohammed Siraj in the last three seasons.\")\n",
        "else:\n",
        "    # Function to fit distributions\n",
        "    def fit_distribution(data, dist_names):\n",
        "        results = {}\n",
        "        for dist_name in dist_names:\n",
        "            dist = getattr(stats, dist_name)\n",
        "            params = dist.fit(data)\n",
        "            kstest = stats.kstest(data, dist_name, args=params)\n",
        "            results[dist_name] = kstest.statistic\n",
        "        best_fit = min(results, key=results.get)\n",
        "        return best_fit, results\n",
        "\n",
        "    # List of distribution names to try\n",
        "    dist_names = ['norm', 'expon', 'gamma', 'lognorm', 'beta']\n",
        "\n",
        "    # Fit distributions for wickets taken\n",
        "    best_wicket_dist, wicket_results = fit_distribution(siraj_wickets, dist_names)\n",
        "\n",
        "    # Print the best distribution for wickets taken\n",
        "    print(f\"Best distribution for wickets taken by Mohammed Siraj: {best_wicket_dist}\")\n",
        "\n",
        "    # Plot the fitted distribution for wickets\n",
        "    def plot_distribution(data, dist_name, title):\n",
        "        dist = getattr(stats, dist_name)\n",
        "        params = dist.fit(data)\n",
        "        sns.histplot(data, kde=False, stat='density', bins=10, color='skyblue')\n",
        "        xmin, xmax = plt.xlim()\n",
        "        x = np.linspace(xmin, xmax, 100)\n",
        "        p = dist.pdf(x, *params)\n",
        "        plt.plot(x, p, 'k', linewidth=2)\n",
        "        plt.title(title)\n",
        "        plt.show()\n",
        "\n",
        "    plot_distribution(siraj_wickets, best_wicket_dist, \"Wickets Taken by Mohammed Siraj\")"
      ],
      "metadata": {
        "colab": {
          "base_uri": "https://localhost:8080/"
        },
        "id": "cUosLVuUCFBc",
        "outputId": "e6262324-ec0b-46f4-9969-9be678469130"
      },
      "execution_count": 18,
      "outputs": [
        {
          "output_type": "stream",
          "name": "stdout",
          "text": [
            "No wickets data available for Mohammed Siraj in the last three seasons.\n"
          ]
        }
      ]
    },
    {
      "cell_type": "markdown",
      "source": [
        "# 5) RELATIONSHIP BETWEEN PLAYER'S PERFORMANCE AND THEIR SALARY"
      ],
      "metadata": {
        "id": "sc2jP4U-h-kr"
      }
    },
    {
      "cell_type": "code",
      "source": [
        "R2024 =total_run_each_year[total_run_each_year['year']==2024]"
      ],
      "metadata": {
        "id": "MaCFKJ8lh-9K"
      },
      "execution_count": 20,
      "outputs": []
    },
    {
      "cell_type": "code",
      "source": [
        "! pip install fuzzywuzzy\n",
        "from fuzzywuzzy import process"
      ],
      "metadata": {
        "colab": {
          "base_uri": "https://localhost:8080/"
        },
        "id": "VB3doL2fiEtZ",
        "outputId": "3584d74f-eeb7-44d7-c6fb-4e2e2c8e0d22"
      },
      "execution_count": 22,
      "outputs": [
        {
          "output_type": "stream",
          "name": "stdout",
          "text": [
            "Collecting fuzzywuzzy\n",
            "  Downloading fuzzywuzzy-0.18.0-py2.py3-none-any.whl (18 kB)\n",
            "Installing collected packages: fuzzywuzzy\n",
            "Successfully installed fuzzywuzzy-0.18.0\n"
          ]
        }
      ]
    },
    {
      "cell_type": "code",
      "source": [
        "# Convert to DataFrame\n",
        "df_salary = ipl_salary.copy()\n",
        "df_runs = R2024.copy()\n",
        "\n",
        "# Function to match names\n",
        "def match_names(name, names_list):\n",
        "    match, score = process.extractOne(name, names_list)\n",
        "    return match if score >= 80 else None  # Use a threshold score of 80"
      ],
      "metadata": {
        "colab": {
          "base_uri": "https://localhost:8080/"
        },
        "id": "WhjaOwb7iEp-",
        "outputId": "f366ca61-5c34-453e-aec2-b0b49cb160e5"
      },
      "execution_count": 23,
      "outputs": [
        {
          "output_type": "stream",
          "name": "stdout",
          "text": [
            "<class 'pandas.core.frame.DataFrame'>\n",
            "RangeIndex: 111 entries, 0 to 110\n",
            "Data columns (total 9 columns):\n",
            " #   Column          Non-Null Count  Dtype  \n",
            "---  ------          --------------  -----  \n",
            " 0   Player          111 non-null    object \n",
            " 1   Salary          111 non-null    object \n",
            " 2   Rs              111 non-null    int64  \n",
            " 3   international   111 non-null    int64  \n",
            " 4   iconic          0 non-null      float64\n",
            " 5   Matched_Player  111 non-null    object \n",
            " 6   year            111 non-null    int32  \n",
            " 7   Striker         111 non-null    object \n",
            " 8   runs_scored     111 non-null    int64  \n",
            "dtypes: float64(1), int32(1), int64(3), object(4)\n",
            "memory usage: 7.5+ KB\n"
          ]
        }
      ]
    },
    {
      "cell_type": "code",
      "source": [
        "# Create a new column in df_salary with matched names from df_runs\n",
        "df_salary['Matched_Player'] = df_salary['Player'].apply(lambda x: match_names(x, df_runs['Striker'].tolist()))\n",
        "\n",
        "# Merge the DataFrames on the matched names\n",
        "df_merged = pd.merge(df_salary, df_runs, left_on='Matched_Player', right_on='Striker')\n",
        "df_merged.info()"
      ],
      "metadata": {
        "colab": {
          "base_uri": "https://localhost:8080/"
        },
        "id": "wXxJ1IMZJL7z",
        "outputId": "2d3dd296-0620-48c9-d7af-936777891521"
      },
      "execution_count": 26,
      "outputs": [
        {
          "output_type": "stream",
          "name": "stdout",
          "text": [
            "<class 'pandas.core.frame.DataFrame'>\n",
            "RangeIndex: 111 entries, 0 to 110\n",
            "Data columns (total 9 columns):\n",
            " #   Column          Non-Null Count  Dtype  \n",
            "---  ------          --------------  -----  \n",
            " 0   Player          111 non-null    object \n",
            " 1   Salary          111 non-null    object \n",
            " 2   Rs              111 non-null    int64  \n",
            " 3   international   111 non-null    int64  \n",
            " 4   iconic          0 non-null      float64\n",
            " 5   Matched_Player  111 non-null    object \n",
            " 6   year            111 non-null    int32  \n",
            " 7   Striker         111 non-null    object \n",
            " 8   runs_scored     111 non-null    int64  \n",
            "dtypes: float64(1), int32(1), int64(3), object(4)\n",
            "memory usage: 7.5+ KB\n"
          ]
        }
      ]
    },
    {
      "cell_type": "code",
      "source": [
        "# Calculate the correlation\n",
        "correlation = df_merged['Rs'].corr(df_merged['runs_scored'])\n",
        "\n",
        "print(\"Correlation between Salary and Runs:\", correlation)"
      ],
      "metadata": {
        "colab": {
          "base_uri": "https://localhost:8080/"
        },
        "id": "S78s3MpTiEoS",
        "outputId": "ff589a04-ec01-42c7-ae84-f40727193797"
      },
      "execution_count": 24,
      "outputs": [
        {
          "output_type": "stream",
          "name": "stdout",
          "text": [
            "Correlation between Salary and Runs: 0.30612483765821674\n"
          ]
        }
      ]
    },
    {
      "cell_type": "markdown",
      "source": [
        "FINAL INFERENCE :\n",
        "\n",
        "Through this comprehensive analysis of IPL data, significant insights were gained into player performance trends. We identified key performers like Virat Kohli and Jasprit Bumrah, understanding the statistical distributions of their performances. The relationship between player performance and salaries was also explored, showing a positive correlation, indicating a generally fair and performance-based remuneration system. This project demonstrates the effective use of data analysis and statistical modeling to enhance strategic decision-making in sports management, ensuring teams can make informed decisions regarding player selection, retention, and financial planning."
      ],
      "metadata": {
        "id": "iayDweDXaRGM"
      }
    }
  ]
}